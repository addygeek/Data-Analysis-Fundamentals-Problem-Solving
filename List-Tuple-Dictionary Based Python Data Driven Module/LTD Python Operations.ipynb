{
 "cells": [
  {
   "cell_type": "markdown",
   "id": "74f32938",
   "metadata": {},
   "source": [
    "#                                                 Assignment 3"
   ]
  },
  {
   "cell_type": "markdown",
   "id": "372dfb4e",
   "metadata": {},
   "source": [
    "1.  Create a list called dairy_section with four elements from the dairy section of a\n",
    "supermarket."
   ]
  },
  {
   "cell_type": "code",
   "execution_count": 1,
   "id": "e8334f33",
   "metadata": {},
   "outputs": [
    {
     "name": "stdout",
     "output_type": "stream",
     "text": [
      "['Milk', 'Curd', 'Panner', 'Ice-Creame']\n"
     ]
    }
   ],
   "source": [
    "dairy_section= [\"Milk\",\"Curd\",\"Panner\",\"Ice-Creame\"]\n",
    "print(dairy_section)"
   ]
  },
  {
   "cell_type": "markdown",
   "id": "e7987266",
   "metadata": {},
   "source": [
    " 2. Print a string with the first and last elements of the dairy_section list."
   ]
  },
  {
   "cell_type": "code",
   "execution_count": 2,
   "id": "e5b8cb37",
   "metadata": {},
   "outputs": [
    {
     "name": "stdout",
     "output_type": "stream",
     "text": [
      "Milk and Ice-Creame\n"
     ]
    }
   ],
   "source": [
    "last=len(dairy_section)\n",
    "print(dairy_section[0],\"and\",dairy_section[last-1])"
   ]
  },
  {
   "cell_type": "markdown",
   "id": "b556e902",
   "metadata": {},
   "source": [
    "3.  Create a tuple called milk_expiration with three elements: the month, day, and year of the expiration\n",
    "date on the nearest carton of milk."
   ]
  },
  {
   "cell_type": "code",
   "execution_count": 3,
   "id": "36cc4714",
   "metadata": {},
   "outputs": [
    {
     "name": "stdout",
     "output_type": "stream",
     "text": [
      "('Month', 'Day', 'Year of the expiration')\n",
      "<class 'tuple'>\n"
     ]
    }
   ],
   "source": [
    "milk_expiration = (\"Month\",\"Day\",\"Year of the expiration\")\n",
    "print(milk_expiration)\n",
    "print(type(milk_expiration))"
   ]
  },
  {
   "cell_type": "markdown",
   "id": "6ee157ab",
   "metadata": {},
   "source": [
    "4.  Print the values in the milk_expiration tuple in a string that reads “This milk carton will expire\n",
    "on 12/10/2005”."
   ]
  },
  {
   "cell_type": "code",
   "execution_count": 4,
   "id": "8e230561",
   "metadata": {},
   "outputs": [
    {
     "name": "stdout",
     "output_type": "stream",
     "text": [
      "('Month', 'Day', 'Year of the expiration')\n",
      "This Milk Cartoon will expire on : [1, 15, 2024]\n"
     ]
    }
   ],
   "source": [
    "print(milk_expiration)\n",
    "milk_exp_values = [1,15,2024]\n",
    "print(\"This Milk Cartoon will expire on :\",milk_exp_values)"
   ]
  },
  {
   "cell_type": "markdown",
   "id": "f6814718",
   "metadata": {},
   "source": [
    "5.  Create an empty dictionary called milk_carton. Add the following\n",
    "key/value pairs. You can make up the values or use a real milk carton:\n",
    "               a. expiration_date —Set it to the milk_expiration tuple.\n",
    "               b. fl_oz —Set it to the size of the milk carton on which you are basing this.\n",
    "               c. Cost —Set this to the cost of the carton of milk.\n",
    "               d. brand_name —Set this to the name of the brand of milk you’re using."
   ]
  },
  {
   "cell_type": "code",
   "execution_count": 5,
   "id": "8e829e78",
   "metadata": {},
   "outputs": [
    {
     "name": "stdout",
     "output_type": "stream",
     "text": [
      "<class 'dict'>\n",
      "{'expiration_date': [1, 15, 2024], 'Fl Oz': '500ml', 'Cost': 90, 'brand_name': 'Mother Dairy'}\n"
     ]
    }
   ],
   "source": [
    "milk_carton=dict()\n",
    "print(type(milk_carton))\n",
    "milk_carton.update({\"expiration_date\":milk_exp_values})\n",
    "milk_carton.update({\"Fl Oz\":\"500ml\"})\n",
    "milk_carton.update({\"Cost\":90})\n",
    "milk_carton.update({\"brand_name\":\"Mother Dairy\"})\n",
    "print(milk_carton)"
   ]
  },
  {
   "cell_type": "markdown",
   "id": "21200931",
   "metadata": {},
   "source": [
    "6.  Print out the values of all of the elements of the milk_carton using the values in\n",
    "the dictionary, and not, for instance, using the data in the milk_expiration tuple."
   ]
  },
  {
   "cell_type": "code",
   "execution_count": 6,
   "id": "41eefd61",
   "metadata": {},
   "outputs": [
    {
     "name": "stdout",
     "output_type": "stream",
     "text": [
      "dict_values([[1, 15, 2024], '500ml', 90, 'Mother Dairy'])\n"
     ]
    }
   ],
   "source": [
    "milk_values = milk_carton.values()\n",
    "print(milk_values)"
   ]
  },
  {
   "cell_type": "markdown",
   "id": "831836aa",
   "metadata": {},
   "source": [
    "7.  Show how to calculate the cost of six cartons of milk\n",
    "based on the cost of milk_carton."
   ]
  },
  {
   "cell_type": "code",
   "execution_count": 7,
   "id": "316de005",
   "metadata": {},
   "outputs": [
    {
     "name": "stdout",
     "output_type": "stream",
     "text": [
      "The cost of one liter milk carton is: 90\n",
      "Therefore the cost of 6 milk cartons is: 540\n"
     ]
    }
   ],
   "source": [
    "milkcost=milk_carton[\"Cost\"]\n",
    "print(\"The cost of one liter milk carton is:\",milkcost)\n",
    "print(\"Therefore the cost of 6 milk cartons is:\",6*milkcost)"
   ]
  },
  {
   "cell_type": "markdown",
   "id": "442b00b0",
   "metadata": {},
   "source": [
    "8.  Create a list called cheeses. List all of the cheeses you\n",
    "can think of. Append this list to the dairy_section list, and look at the contents of dairy_section. Then remove the\n",
    "list of cheeses from the array."
   ]
  },
  {
   "cell_type": "code",
   "execution_count": 8,
   "id": "9e1d3e3b",
   "metadata": {},
   "outputs": [
    {
     "name": "stdout",
     "output_type": "stream",
     "text": [
      "['mozerrella Cheese', 'Cheese brust', 'Italian Cheese', 'Indian Cheese']\n",
      "\n",
      "['Milk', 'Curd', 'Panner', 'Ice-Creame', ['mozerrella Cheese', 'Cheese brust', 'Italian Cheese', 'Indian Cheese']]\n",
      "\n",
      "\n",
      "['Milk', 'Curd', 'Panner', 'Ice-Creame']\n"
     ]
    }
   ],
   "source": [
    "cheeses=[]\n",
    "cheeses.append(\"mozerrella Cheese\")\n",
    "cheeses.append(\"Cheese brust\")\n",
    "cheeses.append(\"Italian Cheese\")\n",
    "cheeses.append(\"Indian Cheese\")\n",
    "dairy_section.append(cheeses)\n",
    "\n",
    "print(cheeses)\n",
    "print(\"\")\n",
    "print(dairy_section)\n",
    "print(\"\")\n",
    "dairy_section.remove(cheeses)\n",
    "print(\"\")\n",
    "print(dairy_section)"
   ]
  },
  {
   "cell_type": "markdown",
   "id": "57ee097d",
   "metadata": {},
   "source": [
    "9.  How do you count the number of cheeses in the cheese\n",
    "list?"
   ]
  },
  {
   "cell_type": "code",
   "execution_count": 11,
   "id": "223a092c",
   "metadata": {},
   "outputs": [
    {
     "name": "stdout",
     "output_type": "stream",
     "text": [
      "The no.of cheeses in the cheese list: 4\n",
      "The no.of cheeses in the cheese list: 4\n"
     ]
    }
   ],
   "source": [
    "#method 1 by direct;ly using length keyword\n",
    "print(\"The no.of cheeses in the cheese list:\",len(cheeses))\n",
    "#method 2 by iterating over it and counting\n",
    "count=0\n",
    "for cheese in cheeses:\n",
    "    count+=1\n",
    "print(\"The no.of cheeses in the cheese list:\",count)"
   ]
  },
  {
   "cell_type": "markdown",
   "id": "fff13e6c",
   "metadata": {},
   "source": [
    "10.  Print out the first five letters of the name of your\n",
    "first cheese."
   ]
  },
  {
   "cell_type": "code",
   "execution_count": 13,
   "id": "bfe6248c",
   "metadata": {},
   "outputs": [
    {
     "name": "stdout",
     "output_type": "stream",
     "text": [
      "The first five letter of name of cheese is : mozer\n"
     ]
    }
   ],
   "source": [
    "#method 1: by simply using slice command\n",
    "print('The first five letter of name of cheese is :', cheeses[0][:5])"
   ]
  },
  {
   "cell_type": "code",
   "execution_count": 37,
   "id": "8278c7f8",
   "metadata": {},
   "outputs": [
    {
     "name": "stdout",
     "output_type": "stream",
     "text": [
      "The first five letter of name of cheese is from method 2: mozer\n"
     ]
    }
   ],
   "source": [
    "#method 2 by using loop to iterate over it and print the first 5 charater of first list element]\n",
    "count=0\n",
    "x=cheeses[0]\n",
    "letter=\"\"\n",
    "for i in x:\n",
    "    count+=1\n",
    "    if count<6:\n",
    "        letter+=i\n",
    "print(\"The first five letter of name of cheese is from method 2:\",letter)"
   ]
  },
  {
   "cell_type": "markdown",
   "id": "b9fde0e1",
   "metadata": {},
   "source": [
    "#                             CODE BY UI22CS03 (ADITYA KUMAR)"
   ]
  }
 ],
 "metadata": {
  "kernelspec": {
   "display_name": "Python 3 (ipykernel)",
   "language": "python",
   "name": "python3"
  },
  "language_info": {
   "codemirror_mode": {
    "name": "ipython",
    "version": 3
   },
   "file_extension": ".py",
   "mimetype": "text/x-python",
   "name": "python",
   "nbconvert_exporter": "python",
   "pygments_lexer": "ipython3",
   "version": "3.11.4"
  }
 },
 "nbformat": 4,
 "nbformat_minor": 5
}
