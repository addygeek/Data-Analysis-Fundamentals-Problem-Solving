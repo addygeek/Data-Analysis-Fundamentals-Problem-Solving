{
  "nbformat": 4,
  "nbformat_minor": 0,
  "metadata": {
    "colab": {
      "provenance": []
    },
    "kernelspec": {
      "name": "python3",
      "display_name": "Python 3"
    },
    "language_info": {
      "name": "python"
    }
  },
  "cells": [
    {
      "cell_type": "markdown",
      "source": [
        "LAB 4 EARTHQUAKE DATA SCIENCE BY UI22CS03\n"
      ],
      "metadata": {
        "id": "rIwWUtumXcqP"
      }
    },
    {
      "cell_type": "code",
      "execution_count": null,
      "metadata": {
        "id": "8votxFpNz6Cp"
      },
      "outputs": [],
      "source": [
        "import pandas as pd"
      ]
    },
    {
      "cell_type": "code",
      "source": [
        "#Earthquake Data imported in CSV format\n",
        "earth = pd.read_csv(\"earthquakes.csv\")"
      ],
      "metadata": {
        "id": "xvx7pUM14kbM"
      },
      "execution_count": null,
      "outputs": []
    },
    {
      "cell_type": "code",
      "source": [
        "#Converting to 2D Dataframe\n",
        "df = pd.DataFrame(earth)"
      ],
      "metadata": {
        "id": "IrOUHc994_D8",
        "colab": {
          "base_uri": "https://localhost:8080/",
          "height": 192
        },
        "outputId": "8373f562-8b02-406e-f704-c0427823e6b7"
      },
      "execution_count": null,
      "outputs": [
        {
          "output_type": "error",
          "ename": "NameError",
          "evalue": "ignored",
          "traceback": [
            "\u001b[0;31m---------------------------------------------------------------------------\u001b[0m",
            "\u001b[0;31mNameError\u001b[0m                                 Traceback (most recent call last)",
            "\u001b[0;32m<ipython-input-4-11e80ddd71dc>\u001b[0m in \u001b[0;36m<cell line: 2>\u001b[0;34m()\u001b[0m\n\u001b[1;32m      1\u001b[0m \u001b[0;31m#Converting to 2D Dataframe\u001b[0m\u001b[0;34m\u001b[0m\u001b[0;34m\u001b[0m\u001b[0m\n\u001b[0;32m----> 2\u001b[0;31m \u001b[0mdf\u001b[0m \u001b[0;34m=\u001b[0m \u001b[0mpd\u001b[0m\u001b[0;34m.\u001b[0m\u001b[0mDataFrame\u001b[0m\u001b[0;34m(\u001b[0m\u001b[0mearth\u001b[0m\u001b[0;34m)\u001b[0m\u001b[0;34m\u001b[0m\u001b[0;34m\u001b[0m\u001b[0m\n\u001b[0m",
            "\u001b[0;31mNameError\u001b[0m: name 'pd' is not defined"
          ]
        }
      ]
    },
    {
      "cell_type": "code",
      "source": [
        "#Let's display the Earthquake Data\n",
        "print(df)"
      ],
      "metadata": {
        "colab": {
          "base_uri": "https://localhost:8080/",
          "height": 192
        },
        "id": "984HyPOM5oiK",
        "outputId": "5c2037f9-0e79-4794-d965-d7efa3423891"
      },
      "execution_count": null,
      "outputs": [
        {
          "output_type": "error",
          "ename": "NameError",
          "evalue": "ignored",
          "traceback": [
            "\u001b[0;31m---------------------------------------------------------------------------\u001b[0m",
            "\u001b[0;31mNameError\u001b[0m                                 Traceback (most recent call last)",
            "\u001b[0;32m<ipython-input-3-ed7f00b5fab7>\u001b[0m in \u001b[0;36m<cell line: 2>\u001b[0;34m()\u001b[0m\n\u001b[1;32m      1\u001b[0m \u001b[0;31m#Let's display the Earthquake Data\u001b[0m\u001b[0;34m\u001b[0m\u001b[0;34m\u001b[0m\u001b[0m\n\u001b[0;32m----> 2\u001b[0;31m \u001b[0mprint\u001b[0m\u001b[0;34m(\u001b[0m\u001b[0mdf\u001b[0m\u001b[0;34m)\u001b[0m\u001b[0;34m\u001b[0m\u001b[0;34m\u001b[0m\u001b[0m\n\u001b[0m",
            "\u001b[0;31mNameError\u001b[0m: name 'df' is not defined"
          ]
        }
      ]
    },
    {
      "cell_type": "code",
      "source": [
        "#Prining \"mag\" column data\n",
        "#print(df[[\"mag\"]])\n",
        "print(df[[\"mag\",\"alert\"]])\n",
        "#Display of top 5 top rows of dat\n",
        "df.head()\n",
        "\n"
      ],
      "metadata": {
        "colab": {
          "base_uri": "https://localhost:8080/",
          "height": 845
        },
        "id": "FThTPklZ5sa6",
        "outputId": "9fdab40a-7292-4680-9316-e2bd7c571c3e"
      },
      "execution_count": null,
      "outputs": [
        {
          "output_type": "stream",
          "name": "stdout",
          "text": [
            "       mag alert\n",
            "0     1.35   NaN\n",
            "1     1.29   NaN\n",
            "2     3.42   NaN\n",
            "3     0.44   NaN\n",
            "4     2.16   NaN\n",
            "...    ...   ...\n",
            "9327  0.62   NaN\n",
            "9328  1.00   NaN\n",
            "9329  2.40   NaN\n",
            "9330  1.10   NaN\n",
            "9331  0.66   NaN\n",
            "\n",
            "[9332 rows x 2 columns]\n"
          ]
        },
        {
          "output_type": "execute_result",
          "data": {
            "text/plain": [
              "  alert  cdi      code                                             detail  \\\n",
              "0   NaN  NaN  37389218  https://earthquake.usgs.gov/fdsnws/event/1/que...   \n",
              "1   NaN  NaN  37389202  https://earthquake.usgs.gov/fdsnws/event/1/que...   \n",
              "2   NaN  4.4  37389194  https://earthquake.usgs.gov/fdsnws/event/1/que...   \n",
              "3   NaN  NaN  37389186  https://earthquake.usgs.gov/fdsnws/event/1/que...   \n",
              "4   NaN  NaN  73096941  https://earthquake.usgs.gov/fdsnws/event/1/que...   \n",
              "\n",
              "       dmin  felt    gap           ids   mag magType  ...  sources     status  \\\n",
              "0  0.008693   NaN   85.0  ,ci37389218,  1.35      ml  ...     ,ci,  automatic   \n",
              "1  0.020030   NaN   79.0  ,ci37389202,  1.29      ml  ...     ,ci,  automatic   \n",
              "2  0.021370  28.0   21.0  ,ci37389194,  3.42      ml  ...     ,ci,  automatic   \n",
              "3  0.026180   NaN   39.0  ,ci37389186,  0.44      ml  ...     ,ci,  automatic   \n",
              "4  0.077990   NaN  192.0  ,nc73096941,  2.16      md  ...     ,nc,  automatic   \n",
              "\n",
              "            time                          title  tsunami        type  \\\n",
              "0  1539475168010  M 1.4 - 9km NE of Aguanga, CA        0  earthquake   \n",
              "1  1539475129610  M 1.3 - 9km NE of Aguanga, CA        0  earthquake   \n",
              "2  1539475062610  M 3.4 - 8km NE of Aguanga, CA        0  earthquake   \n",
              "3  1539474978070  M 0.4 - 9km NE of Aguanga, CA        0  earthquake   \n",
              "4  1539474716050  M 2.2 - 10km NW of Avenal, CA        0  earthquake   \n",
              "\n",
              "                                               types     tz        updated  \\\n",
              "0         ,geoserve,nearby-cities,origin,phase-data, -480.0  1539475395144   \n",
              "1         ,geoserve,nearby-cities,origin,phase-data, -480.0  1539475253925   \n",
              "2  ,dyfi,focal-mechanism,geoserve,nearby-cities,o... -480.0  1539536756176   \n",
              "3         ,geoserve,nearby-cities,origin,phase-data, -480.0  1539475196167   \n",
              "4  ,geoserve,nearby-cities,origin,phase-data,scit... -480.0  1539477547926   \n",
              "\n",
              "                                                 url  \n",
              "0  https://earthquake.usgs.gov/earthquakes/eventp...  \n",
              "1  https://earthquake.usgs.gov/earthquakes/eventp...  \n",
              "2  https://earthquake.usgs.gov/earthquakes/eventp...  \n",
              "3  https://earthquake.usgs.gov/earthquakes/eventp...  \n",
              "4  https://earthquake.usgs.gov/earthquakes/eventp...  \n",
              "\n",
              "[5 rows x 26 columns]"
            ],
            "text/html": [
              "\n",
              "  <div id=\"df-b9b28aaa-1d48-400f-895e-0b7b98ab33ea\" class=\"colab-df-container\">\n",
              "    <div>\n",
              "<style scoped>\n",
              "    .dataframe tbody tr th:only-of-type {\n",
              "        vertical-align: middle;\n",
              "    }\n",
              "\n",
              "    .dataframe tbody tr th {\n",
              "        vertical-align: top;\n",
              "    }\n",
              "\n",
              "    .dataframe thead th {\n",
              "        text-align: right;\n",
              "    }\n",
              "</style>\n",
              "<table border=\"1\" class=\"dataframe\">\n",
              "  <thead>\n",
              "    <tr style=\"text-align: right;\">\n",
              "      <th></th>\n",
              "      <th>alert</th>\n",
              "      <th>cdi</th>\n",
              "      <th>code</th>\n",
              "      <th>detail</th>\n",
              "      <th>dmin</th>\n",
              "      <th>felt</th>\n",
              "      <th>gap</th>\n",
              "      <th>ids</th>\n",
              "      <th>mag</th>\n",
              "      <th>magType</th>\n",
              "      <th>...</th>\n",
              "      <th>sources</th>\n",
              "      <th>status</th>\n",
              "      <th>time</th>\n",
              "      <th>title</th>\n",
              "      <th>tsunami</th>\n",
              "      <th>type</th>\n",
              "      <th>types</th>\n",
              "      <th>tz</th>\n",
              "      <th>updated</th>\n",
              "      <th>url</th>\n",
              "    </tr>\n",
              "  </thead>\n",
              "  <tbody>\n",
              "    <tr>\n",
              "      <th>0</th>\n",
              "      <td>NaN</td>\n",
              "      <td>NaN</td>\n",
              "      <td>37389218</td>\n",
              "      <td>https://earthquake.usgs.gov/fdsnws/event/1/que...</td>\n",
              "      <td>0.008693</td>\n",
              "      <td>NaN</td>\n",
              "      <td>85.0</td>\n",
              "      <td>,ci37389218,</td>\n",
              "      <td>1.35</td>\n",
              "      <td>ml</td>\n",
              "      <td>...</td>\n",
              "      <td>,ci,</td>\n",
              "      <td>automatic</td>\n",
              "      <td>1539475168010</td>\n",
              "      <td>M 1.4 - 9km NE of Aguanga, CA</td>\n",
              "      <td>0</td>\n",
              "      <td>earthquake</td>\n",
              "      <td>,geoserve,nearby-cities,origin,phase-data,</td>\n",
              "      <td>-480.0</td>\n",
              "      <td>1539475395144</td>\n",
              "      <td>https://earthquake.usgs.gov/earthquakes/eventp...</td>\n",
              "    </tr>\n",
              "    <tr>\n",
              "      <th>1</th>\n",
              "      <td>NaN</td>\n",
              "      <td>NaN</td>\n",
              "      <td>37389202</td>\n",
              "      <td>https://earthquake.usgs.gov/fdsnws/event/1/que...</td>\n",
              "      <td>0.020030</td>\n",
              "      <td>NaN</td>\n",
              "      <td>79.0</td>\n",
              "      <td>,ci37389202,</td>\n",
              "      <td>1.29</td>\n",
              "      <td>ml</td>\n",
              "      <td>...</td>\n",
              "      <td>,ci,</td>\n",
              "      <td>automatic</td>\n",
              "      <td>1539475129610</td>\n",
              "      <td>M 1.3 - 9km NE of Aguanga, CA</td>\n",
              "      <td>0</td>\n",
              "      <td>earthquake</td>\n",
              "      <td>,geoserve,nearby-cities,origin,phase-data,</td>\n",
              "      <td>-480.0</td>\n",
              "      <td>1539475253925</td>\n",
              "      <td>https://earthquake.usgs.gov/earthquakes/eventp...</td>\n",
              "    </tr>\n",
              "    <tr>\n",
              "      <th>2</th>\n",
              "      <td>NaN</td>\n",
              "      <td>4.4</td>\n",
              "      <td>37389194</td>\n",
              "      <td>https://earthquake.usgs.gov/fdsnws/event/1/que...</td>\n",
              "      <td>0.021370</td>\n",
              "      <td>28.0</td>\n",
              "      <td>21.0</td>\n",
              "      <td>,ci37389194,</td>\n",
              "      <td>3.42</td>\n",
              "      <td>ml</td>\n",
              "      <td>...</td>\n",
              "      <td>,ci,</td>\n",
              "      <td>automatic</td>\n",
              "      <td>1539475062610</td>\n",
              "      <td>M 3.4 - 8km NE of Aguanga, CA</td>\n",
              "      <td>0</td>\n",
              "      <td>earthquake</td>\n",
              "      <td>,dyfi,focal-mechanism,geoserve,nearby-cities,o...</td>\n",
              "      <td>-480.0</td>\n",
              "      <td>1539536756176</td>\n",
              "      <td>https://earthquake.usgs.gov/earthquakes/eventp...</td>\n",
              "    </tr>\n",
              "    <tr>\n",
              "      <th>3</th>\n",
              "      <td>NaN</td>\n",
              "      <td>NaN</td>\n",
              "      <td>37389186</td>\n",
              "      <td>https://earthquake.usgs.gov/fdsnws/event/1/que...</td>\n",
              "      <td>0.026180</td>\n",
              "      <td>NaN</td>\n",
              "      <td>39.0</td>\n",
              "      <td>,ci37389186,</td>\n",
              "      <td>0.44</td>\n",
              "      <td>ml</td>\n",
              "      <td>...</td>\n",
              "      <td>,ci,</td>\n",
              "      <td>automatic</td>\n",
              "      <td>1539474978070</td>\n",
              "      <td>M 0.4 - 9km NE of Aguanga, CA</td>\n",
              "      <td>0</td>\n",
              "      <td>earthquake</td>\n",
              "      <td>,geoserve,nearby-cities,origin,phase-data,</td>\n",
              "      <td>-480.0</td>\n",
              "      <td>1539475196167</td>\n",
              "      <td>https://earthquake.usgs.gov/earthquakes/eventp...</td>\n",
              "    </tr>\n",
              "    <tr>\n",
              "      <th>4</th>\n",
              "      <td>NaN</td>\n",
              "      <td>NaN</td>\n",
              "      <td>73096941</td>\n",
              "      <td>https://earthquake.usgs.gov/fdsnws/event/1/que...</td>\n",
              "      <td>0.077990</td>\n",
              "      <td>NaN</td>\n",
              "      <td>192.0</td>\n",
              "      <td>,nc73096941,</td>\n",
              "      <td>2.16</td>\n",
              "      <td>md</td>\n",
              "      <td>...</td>\n",
              "      <td>,nc,</td>\n",
              "      <td>automatic</td>\n",
              "      <td>1539474716050</td>\n",
              "      <td>M 2.2 - 10km NW of Avenal, CA</td>\n",
              "      <td>0</td>\n",
              "      <td>earthquake</td>\n",
              "      <td>,geoserve,nearby-cities,origin,phase-data,scit...</td>\n",
              "      <td>-480.0</td>\n",
              "      <td>1539477547926</td>\n",
              "      <td>https://earthquake.usgs.gov/earthquakes/eventp...</td>\n",
              "    </tr>\n",
              "  </tbody>\n",
              "</table>\n",
              "<p>5 rows × 26 columns</p>\n",
              "</div>\n",
              "    <div class=\"colab-df-buttons\">\n",
              "\n",
              "  <div class=\"colab-df-container\">\n",
              "    <button class=\"colab-df-convert\" onclick=\"convertToInteractive('df-b9b28aaa-1d48-400f-895e-0b7b98ab33ea')\"\n",
              "            title=\"Convert this dataframe to an interactive table.\"\n",
              "            style=\"display:none;\">\n",
              "\n",
              "  <svg xmlns=\"http://www.w3.org/2000/svg\" height=\"24px\" viewBox=\"0 -960 960 960\">\n",
              "    <path d=\"M120-120v-720h720v720H120Zm60-500h600v-160H180v160Zm220 220h160v-160H400v160Zm0 220h160v-160H400v160ZM180-400h160v-160H180v160Zm440 0h160v-160H620v160ZM180-180h160v-160H180v160Zm440 0h160v-160H620v160Z\"/>\n",
              "  </svg>\n",
              "    </button>\n",
              "\n",
              "  <style>\n",
              "    .colab-df-container {\n",
              "      display:flex;\n",
              "      gap: 12px;\n",
              "    }\n",
              "\n",
              "    .colab-df-convert {\n",
              "      background-color: #E8F0FE;\n",
              "      border: none;\n",
              "      border-radius: 50%;\n",
              "      cursor: pointer;\n",
              "      display: none;\n",
              "      fill: #1967D2;\n",
              "      height: 32px;\n",
              "      padding: 0 0 0 0;\n",
              "      width: 32px;\n",
              "    }\n",
              "\n",
              "    .colab-df-convert:hover {\n",
              "      background-color: #E2EBFA;\n",
              "      box-shadow: 0px 1px 2px rgba(60, 64, 67, 0.3), 0px 1px 3px 1px rgba(60, 64, 67, 0.15);\n",
              "      fill: #174EA6;\n",
              "    }\n",
              "\n",
              "    .colab-df-buttons div {\n",
              "      margin-bottom: 4px;\n",
              "    }\n",
              "\n",
              "    [theme=dark] .colab-df-convert {\n",
              "      background-color: #3B4455;\n",
              "      fill: #D2E3FC;\n",
              "    }\n",
              "\n",
              "    [theme=dark] .colab-df-convert:hover {\n",
              "      background-color: #434B5C;\n",
              "      box-shadow: 0px 1px 3px 1px rgba(0, 0, 0, 0.15);\n",
              "      filter: drop-shadow(0px 1px 2px rgba(0, 0, 0, 0.3));\n",
              "      fill: #FFFFFF;\n",
              "    }\n",
              "  </style>\n",
              "\n",
              "    <script>\n",
              "      const buttonEl =\n",
              "        document.querySelector('#df-b9b28aaa-1d48-400f-895e-0b7b98ab33ea button.colab-df-convert');\n",
              "      buttonEl.style.display =\n",
              "        google.colab.kernel.accessAllowed ? 'block' : 'none';\n",
              "\n",
              "      async function convertToInteractive(key) {\n",
              "        const element = document.querySelector('#df-b9b28aaa-1d48-400f-895e-0b7b98ab33ea');\n",
              "        const dataTable =\n",
              "          await google.colab.kernel.invokeFunction('convertToInteractive',\n",
              "                                                    [key], {});\n",
              "        if (!dataTable) return;\n",
              "\n",
              "        const docLinkHtml = 'Like what you see? Visit the ' +\n",
              "          '<a target=\"_blank\" href=https://colab.research.google.com/notebooks/data_table.ipynb>data table notebook</a>'\n",
              "          + ' to learn more about interactive tables.';\n",
              "        element.innerHTML = '';\n",
              "        dataTable['output_type'] = 'display_data';\n",
              "        await google.colab.output.renderOutput(dataTable, element);\n",
              "        const docLink = document.createElement('div');\n",
              "        docLink.innerHTML = docLinkHtml;\n",
              "        element.appendChild(docLink);\n",
              "      }\n",
              "    </script>\n",
              "  </div>\n",
              "\n",
              "\n",
              "<div id=\"df-d1b4c3d4-fcc3-412e-b8c7-5065f7bdeb72\">\n",
              "  <button class=\"colab-df-quickchart\" onclick=\"quickchart('df-d1b4c3d4-fcc3-412e-b8c7-5065f7bdeb72')\"\n",
              "            title=\"Suggest charts\"\n",
              "            style=\"display:none;\">\n",
              "\n",
              "<svg xmlns=\"http://www.w3.org/2000/svg\" height=\"24px\"viewBox=\"0 0 24 24\"\n",
              "     width=\"24px\">\n",
              "    <g>\n",
              "        <path d=\"M19 3H5c-1.1 0-2 .9-2 2v14c0 1.1.9 2 2 2h14c1.1 0 2-.9 2-2V5c0-1.1-.9-2-2-2zM9 17H7v-7h2v7zm4 0h-2V7h2v10zm4 0h-2v-4h2v4z\"/>\n",
              "    </g>\n",
              "</svg>\n",
              "  </button>\n",
              "\n",
              "<style>\n",
              "  .colab-df-quickchart {\n",
              "      --bg-color: #E8F0FE;\n",
              "      --fill-color: #1967D2;\n",
              "      --hover-bg-color: #E2EBFA;\n",
              "      --hover-fill-color: #174EA6;\n",
              "      --disabled-fill-color: #AAA;\n",
              "      --disabled-bg-color: #DDD;\n",
              "  }\n",
              "\n",
              "  [theme=dark] .colab-df-quickchart {\n",
              "      --bg-color: #3B4455;\n",
              "      --fill-color: #D2E3FC;\n",
              "      --hover-bg-color: #434B5C;\n",
              "      --hover-fill-color: #FFFFFF;\n",
              "      --disabled-bg-color: #3B4455;\n",
              "      --disabled-fill-color: #666;\n",
              "  }\n",
              "\n",
              "  .colab-df-quickchart {\n",
              "    background-color: var(--bg-color);\n",
              "    border: none;\n",
              "    border-radius: 50%;\n",
              "    cursor: pointer;\n",
              "    display: none;\n",
              "    fill: var(--fill-color);\n",
              "    height: 32px;\n",
              "    padding: 0;\n",
              "    width: 32px;\n",
              "  }\n",
              "\n",
              "  .colab-df-quickchart:hover {\n",
              "    background-color: var(--hover-bg-color);\n",
              "    box-shadow: 0 1px 2px rgba(60, 64, 67, 0.3), 0 1px 3px 1px rgba(60, 64, 67, 0.15);\n",
              "    fill: var(--button-hover-fill-color);\n",
              "  }\n",
              "\n",
              "  .colab-df-quickchart-complete:disabled,\n",
              "  .colab-df-quickchart-complete:disabled:hover {\n",
              "    background-color: var(--disabled-bg-color);\n",
              "    fill: var(--disabled-fill-color);\n",
              "    box-shadow: none;\n",
              "  }\n",
              "\n",
              "  .colab-df-spinner {\n",
              "    border: 2px solid var(--fill-color);\n",
              "    border-color: transparent;\n",
              "    border-bottom-color: var(--fill-color);\n",
              "    animation:\n",
              "      spin 1s steps(1) infinite;\n",
              "  }\n",
              "\n",
              "  @keyframes spin {\n",
              "    0% {\n",
              "      border-color: transparent;\n",
              "      border-bottom-color: var(--fill-color);\n",
              "      border-left-color: var(--fill-color);\n",
              "    }\n",
              "    20% {\n",
              "      border-color: transparent;\n",
              "      border-left-color: var(--fill-color);\n",
              "      border-top-color: var(--fill-color);\n",
              "    }\n",
              "    30% {\n",
              "      border-color: transparent;\n",
              "      border-left-color: var(--fill-color);\n",
              "      border-top-color: var(--fill-color);\n",
              "      border-right-color: var(--fill-color);\n",
              "    }\n",
              "    40% {\n",
              "      border-color: transparent;\n",
              "      border-right-color: var(--fill-color);\n",
              "      border-top-color: var(--fill-color);\n",
              "    }\n",
              "    60% {\n",
              "      border-color: transparent;\n",
              "      border-right-color: var(--fill-color);\n",
              "    }\n",
              "    80% {\n",
              "      border-color: transparent;\n",
              "      border-right-color: var(--fill-color);\n",
              "      border-bottom-color: var(--fill-color);\n",
              "    }\n",
              "    90% {\n",
              "      border-color: transparent;\n",
              "      border-bottom-color: var(--fill-color);\n",
              "    }\n",
              "  }\n",
              "</style>\n",
              "\n",
              "  <script>\n",
              "    async function quickchart(key) {\n",
              "      const quickchartButtonEl =\n",
              "        document.querySelector('#' + key + ' button');\n",
              "      quickchartButtonEl.disabled = true;  // To prevent multiple clicks.\n",
              "      quickchartButtonEl.classList.add('colab-df-spinner');\n",
              "      try {\n",
              "        const charts = await google.colab.kernel.invokeFunction(\n",
              "            'suggestCharts', [key], {});\n",
              "      } catch (error) {\n",
              "        console.error('Error during call to suggestCharts:', error);\n",
              "      }\n",
              "      quickchartButtonEl.classList.remove('colab-df-spinner');\n",
              "      quickchartButtonEl.classList.add('colab-df-quickchart-complete');\n",
              "    }\n",
              "    (() => {\n",
              "      let quickchartButtonEl =\n",
              "        document.querySelector('#df-d1b4c3d4-fcc3-412e-b8c7-5065f7bdeb72 button');\n",
              "      quickchartButtonEl.style.display =\n",
              "        google.colab.kernel.accessAllowed ? 'block' : 'none';\n",
              "    })();\n",
              "  </script>\n",
              "</div>\n",
              "    </div>\n",
              "  </div>\n"
            ]
          },
          "metadata": {},
          "execution_count": 29
        }
      ]
    },
    {
      "cell_type": "code",
      "source": [
        "#SHape of Dataframe\n",
        "df.shape\n",
        "#Dimention are in (Rows, Column)\n"
      ],
      "metadata": {
        "colab": {
          "base_uri": "https://localhost:8080/"
        },
        "id": "WcONmVri6AQ7",
        "outputId": "676c0f0e-cea1-4e15-f579-10e5b2216979"
      },
      "execution_count": null,
      "outputs": [
        {
          "output_type": "execute_result",
          "data": {
            "text/plain": [
              "(9332, 26)"
            ]
          },
          "metadata": {},
          "execution_count": 9
        }
      ]
    },
    {
      "cell_type": "code",
      "source": [
        "#Knowing individual Datatype\n",
        "df.dtypes"
      ],
      "metadata": {
        "colab": {
          "base_uri": "https://localhost:8080/"
        },
        "id": "UnIIR-SYHMpa",
        "outputId": "e0e607a3-0902-443e-80d4-ea998786f1cb"
      },
      "execution_count": null,
      "outputs": [
        {
          "output_type": "execute_result",
          "data": {
            "text/plain": [
              "alert       object\n",
              "cdi        float64\n",
              "code        object\n",
              "detail      object\n",
              "dmin       float64\n",
              "felt       float64\n",
              "gap        float64\n",
              "ids         object\n",
              "mag        float64\n",
              "magType     object\n",
              "mmi        float64\n",
              "net         object\n",
              "nst        float64\n",
              "place       object\n",
              "rms        float64\n",
              "sig          int64\n",
              "sources     object\n",
              "status      object\n",
              "time         int64\n",
              "title       object\n",
              "tsunami      int64\n",
              "type        object\n",
              "types       object\n",
              "tz         float64\n",
              "updated      int64\n",
              "url         object\n",
              "dtype: object"
            ]
          },
          "metadata": {},
          "execution_count": 10
        }
      ]
    },
    {
      "cell_type": "code",
      "source": [
        "#Printing all the values of Dataframe\n",
        "df.values"
      ],
      "metadata": {
        "colab": {
          "base_uri": "https://localhost:8080/"
        },
        "id": "LD_lyo5uJgX6",
        "outputId": "052095e8-f407-4492-d498-7044c577673d"
      },
      "execution_count": null,
      "outputs": [
        {
          "output_type": "execute_result",
          "data": {
            "text/plain": [
              "array([[nan, nan, '37389218', ..., -480.0, 1539475395144,\n",
              "        'https://earthquake.usgs.gov/earthquakes/eventpage/ci37389218'],\n",
              "       [nan, nan, '37389202', ..., -480.0, 1539475253925,\n",
              "        'https://earthquake.usgs.gov/earthquakes/eventpage/ci37389202'],\n",
              "       [nan, 4.4, '37389194', ..., -480.0, 1539536756176,\n",
              "        'https://earthquake.usgs.gov/earthquakes/eventpage/ci37389194'],\n",
              "       ...,\n",
              "       [nan, nan, '2018261000', ..., -240.0, 1537243777410,\n",
              "        'https://earthquake.usgs.gov/earthquakes/eventpage/pr2018261000'],\n",
              "       [nan, nan, '38063959', ..., -480.0, 1537230211640,\n",
              "        'https://earthquake.usgs.gov/earthquakes/eventpage/ci38063959'],\n",
              "       [nan, nan, '38063935', ..., -480.0, 1537305830770,\n",
              "        'https://earthquake.usgs.gov/earthquakes/eventpage/ci38063935']],\n",
              "      dtype=object)"
            ]
          },
          "metadata": {},
          "execution_count": 11
        }
      ]
    },
    {
      "cell_type": "code",
      "source": [
        "#Knowing all the Index/Column of Dataframe in earthquake database\n",
        "print(\"Following are the Coloumns of Earthquqke\\n\",df.columns)"
      ],
      "metadata": {
        "colab": {
          "base_uri": "https://localhost:8080/"
        },
        "id": "mZG8VH-4Jp66",
        "outputId": "8304b25d-1589-42ae-efc9-afea24fe7d83"
      },
      "execution_count": null,
      "outputs": [
        {
          "output_type": "stream",
          "name": "stdout",
          "text": [
            "Following are the Coloumns of Earthquqke\n",
            " Index(['alert', 'cdi', 'code', 'detail', 'dmin', 'felt', 'gap', 'ids', 'mag',\n",
            "       'magType', 'mmi', 'net', 'nst', 'place', 'rms', 'sig', 'sources',\n",
            "       'status', 'time', 'title', 'tsunami', 'type', 'types', 'tz', 'updated',\n",
            "       'url'],\n",
            "      dtype='object')\n"
          ]
        }
      ]
    },
    {
      "cell_type": "code",
      "source": [
        "#Let's Describe\n",
        "print(df[\"mag\"])\n",
        "print(df.describe)\n"
      ],
      "metadata": {
        "id": "GxN5LhlhL566",
        "colab": {
          "base_uri": "https://localhost:8080/"
        },
        "outputId": "277ea966-c434-41c8-ce3f-9006781c13ed"
      },
      "execution_count": null,
      "outputs": [
        {
          "output_type": "stream",
          "name": "stdout",
          "text": [
            "0       1.35\n",
            "1       1.29\n",
            "2       3.42\n",
            "3       0.44\n",
            "4       2.16\n",
            "        ... \n",
            "9327    0.62\n",
            "9328    1.00\n",
            "9329    2.40\n",
            "9330    1.10\n",
            "9331    0.66\n",
            "Name: mag, Length: 9332, dtype: float64\n",
            "<bound method NDFrame.describe of      alert  cdi        code  \\\n",
            "0      NaN  NaN    37389218   \n",
            "1      NaN  NaN    37389202   \n",
            "2      NaN  4.4    37389194   \n",
            "3      NaN  NaN    37389186   \n",
            "4      NaN  NaN    73096941   \n",
            "...    ...  ...         ...   \n",
            "9327   NaN  NaN    73086771   \n",
            "9328   NaN  NaN    38063967   \n",
            "9329   NaN  NaN  2018261000   \n",
            "9330   NaN  NaN    38063959   \n",
            "9331   NaN  NaN    38063935   \n",
            "\n",
            "                                                 detail      dmin  felt  \\\n",
            "0     https://earthquake.usgs.gov/fdsnws/event/1/que...  0.008693   NaN   \n",
            "1     https://earthquake.usgs.gov/fdsnws/event/1/que...  0.020030   NaN   \n",
            "2     https://earthquake.usgs.gov/fdsnws/event/1/que...  0.021370  28.0   \n",
            "3     https://earthquake.usgs.gov/fdsnws/event/1/que...  0.026180   NaN   \n",
            "4     https://earthquake.usgs.gov/fdsnws/event/1/que...  0.077990   NaN   \n",
            "...                                                 ...       ...   ...   \n",
            "9327  https://earthquake.usgs.gov/fdsnws/event/1/que...  0.018060   NaN   \n",
            "9328  https://earthquake.usgs.gov/fdsnws/event/1/que...  0.030410   NaN   \n",
            "9329  https://earthquake.usgs.gov/fdsnws/event/1/que...  0.452600   NaN   \n",
            "9330  https://earthquake.usgs.gov/fdsnws/event/1/que...  0.018650   NaN   \n",
            "9331  https://earthquake.usgs.gov/fdsnws/event/1/que...  0.016980   NaN   \n",
            "\n",
            "        gap             ids   mag magType  ...  sources     status  \\\n",
            "0      85.0    ,ci37389218,  1.35      ml  ...     ,ci,  automatic   \n",
            "1      79.0    ,ci37389202,  1.29      ml  ...     ,ci,  automatic   \n",
            "2      21.0    ,ci37389194,  3.42      ml  ...     ,ci,  automatic   \n",
            "3      39.0    ,ci37389186,  0.44      ml  ...     ,ci,  automatic   \n",
            "4     192.0    ,nc73096941,  2.16      md  ...     ,nc,  automatic   \n",
            "...     ...             ...   ...     ...  ...      ...        ...   \n",
            "9327  185.0    ,nc73086771,  0.62      md  ...     ,nc,   reviewed   \n",
            "9328   50.0    ,ci38063967,  1.00      ml  ...     ,ci,   reviewed   \n",
            "9329  276.0  ,pr2018261000,  2.40      md  ...     ,pr,   reviewed   \n",
            "9330   61.0    ,ci38063959,  1.10      ml  ...     ,ci,   reviewed   \n",
            "9331   39.0    ,ci38063935,  0.66      ml  ...     ,ci,   reviewed   \n",
            "\n",
            "               time                                     title  tsunami  \\\n",
            "0     1539475168010             M 1.4 - 9km NE of Aguanga, CA        0   \n",
            "1     1539475129610             M 1.3 - 9km NE of Aguanga, CA        0   \n",
            "2     1539475062610             M 3.4 - 8km NE of Aguanga, CA        0   \n",
            "3     1539474978070             M 0.4 - 9km NE of Aguanga, CA        0   \n",
            "4     1539474716050             M 2.2 - 10km NW of Avenal, CA        0   \n",
            "...             ...                                       ...      ...   \n",
            "9327  1537230228060      M 0.6 - 9km ENE of Mammoth Lakes, CA        0   \n",
            "9328  1537230135130               M 1.0 - 3km W of Julian, CA        0   \n",
            "9329  1537229908180  M 2.4 - 35km NNE of Hatillo, Puerto Rico        0   \n",
            "9330  1537229545350             M 1.1 - 9km NE of Aguanga, CA        0   \n",
            "9331  1537228864470             M 0.7 - 9km NE of Aguanga, CA        0   \n",
            "\n",
            "            type                                              types     tz  \\\n",
            "0     earthquake         ,geoserve,nearby-cities,origin,phase-data, -480.0   \n",
            "1     earthquake         ,geoserve,nearby-cities,origin,phase-data, -480.0   \n",
            "2     earthquake  ,dyfi,focal-mechanism,geoserve,nearby-cities,o... -480.0   \n",
            "3     earthquake         ,geoserve,nearby-cities,origin,phase-data, -480.0   \n",
            "4     earthquake  ,geoserve,nearby-cities,origin,phase-data,scit... -480.0   \n",
            "...          ...                                                ...    ...   \n",
            "9327  earthquake         ,geoserve,nearby-cities,origin,phase-data, -480.0   \n",
            "9328  earthquake  ,geoserve,nearby-cities,origin,phase-data,scit... -480.0   \n",
            "9329  earthquake                       ,geoserve,origin,phase-data, -240.0   \n",
            "9330  earthquake  ,focal-mechanism,geoserve,nearby-cities,origin... -480.0   \n",
            "9331  earthquake  ,focal-mechanism,geoserve,nearby-cities,origin... -480.0   \n",
            "\n",
            "            updated                                                url  \n",
            "0     1539475395144  https://earthquake.usgs.gov/earthquakes/eventp...  \n",
            "1     1539475253925  https://earthquake.usgs.gov/earthquakes/eventp...  \n",
            "2     1539536756176  https://earthquake.usgs.gov/earthquakes/eventp...  \n",
            "3     1539475196167  https://earthquake.usgs.gov/earthquakes/eventp...  \n",
            "4     1539477547926  https://earthquake.usgs.gov/earthquakes/eventp...  \n",
            "...             ...                                                ...  \n",
            "9327  1537285598315  https://earthquake.usgs.gov/earthquakes/eventp...  \n",
            "9328  1537276800970  https://earthquake.usgs.gov/earthquakes/eventp...  \n",
            "9329  1537243777410  https://earthquake.usgs.gov/earthquakes/eventp...  \n",
            "9330  1537230211640  https://earthquake.usgs.gov/earthquakes/eventp...  \n",
            "9331  1537305830770  https://earthquake.usgs.gov/earthquakes/eventp...  \n",
            "\n",
            "[9332 rows x 26 columns]>\n"
          ]
        }
      ]
    },
    {
      "cell_type": "code",
      "source": [
        "#Let's know the count of individual data\n",
        "print(df.count())"
      ],
      "metadata": {
        "colab": {
          "base_uri": "https://localhost:8080/"
        },
        "id": "b9lfcjFlYwrv",
        "outputId": "42f819c3-4a67-418a-d1c3-7dc047d59ac5"
      },
      "execution_count": null,
      "outputs": [
        {
          "output_type": "stream",
          "name": "stdout",
          "text": [
            "alert        59\n",
            "cdi         329\n",
            "code       9332\n",
            "detail     9332\n",
            "dmin       6139\n",
            "felt        329\n",
            "gap        6164\n",
            "ids        9332\n",
            "mag        9331\n",
            "magType    9331\n",
            "mmi          93\n",
            "net        9332\n",
            "nst        5364\n",
            "place      9332\n",
            "rms        9332\n",
            "sig        9332\n",
            "sources    9332\n",
            "status     9332\n",
            "time       9332\n",
            "title      9332\n",
            "tsunami    9332\n",
            "type       9332\n",
            "types      9332\n",
            "tz         9331\n",
            "updated    9332\n",
            "url        9332\n",
            "dtype: int64\n"
          ]
        }
      ]
    },
    {
      "cell_type": "code",
      "source": [
        "#THIS IS HOW TO APPLY THE NUNIQUE ATTRIBUTE TO THE DATA\n",
        "print(df.nunique())"
      ],
      "metadata": {
        "colab": {
          "base_uri": "https://localhost:8080/"
        },
        "id": "ighjNrdoY9TW",
        "outputId": "cc3221f3-5144-4ed9-8abc-5d3848808e38"
      },
      "execution_count": null,
      "outputs": [
        {
          "output_type": "stream",
          "name": "stdout",
          "text": [
            "alert         2\n",
            "cdi          37\n",
            "code       9332\n",
            "detail     9332\n",
            "dmin       4647\n",
            "felt         44\n",
            "gap        1114\n",
            "ids        9332\n",
            "mag         477\n",
            "magType      10\n",
            "mmi          77\n",
            "net          14\n",
            "nst         102\n",
            "place      5433\n",
            "rms         823\n",
            "sig         268\n",
            "sources      52\n",
            "status        2\n",
            "time       9332\n",
            "title      7807\n",
            "tsunami       2\n",
            "type          5\n",
            "types        42\n",
            "tz           29\n",
            "updated    9332\n",
            "url        9332\n",
            "dtype: int64\n"
          ]
        }
      ]
    },
    {
      "cell_type": "code",
      "source": [
        "#THIS IS HOW TO APPLY THE SUM ATTRIBUTE TO THE DATA IN THE CSV FILE\n",
        "print(df.sum())"
      ],
      "metadata": {
        "id": "hV2e_PH7eK6t",
        "colab": {
          "base_uri": "https://localhost:8080/"
        },
        "outputId": "cbf6fa9a-e4e5-483b-a17e-4e3963ac8204"
      },
      "execution_count": null,
      "outputs": [
        {
          "output_type": "stream",
          "name": "stdout",
          "text": [
            "cdi                                                    906.3\n",
            "code       3738921837389202373891943738918673096941201828...\n",
            "detail     https://earthquake.usgs.gov/fdsnws/event/1/que...\n",
            "dmin                                             3345.296264\n",
            "felt                                                  4050.0\n",
            "gap                                                748966.61\n",
            "ids        ,ci37389218,,ci37389202,,ci37389194,,ci3738918...\n",
            "mag                                                 13971.73\n",
            "mmi                                                   339.58\n",
            "net        cicicicincprakncncusciprciusncakncprakciprakci...\n",
            "nst                                                 102205.0\n",
            "place      9km NE of Aguanga, CA9km NE of Aguanga, CA8km ...\n",
            "rms                                                3379.3269\n",
            "sig                                                   530990\n",
            "sources    ,ci,,ci,,ci,,ci,,nc,,pr,,ak,,nc,,nc,,us,,ci,,p...\n",
            "status     automaticautomaticautomaticautomaticautomaticr...\n",
            "time                                       14355263284847005\n",
            "title      M 1.4 - 9km NE of Aguanga, CAM 1.3 - 9km NE of...\n",
            "tsunami                                                   61\n",
            "type       earthquakeearthquakeearthquakeearthquakeearthq...\n",
            "types      ,geoserve,nearby-cities,origin,phase-data,,geo...\n",
            "tz                                                -4217520.0\n",
            "updated                                    14357623365441865\n",
            "url        https://earthquake.usgs.gov/earthquakes/eventp...\n",
            "dtype: object\n"
          ]
        },
        {
          "output_type": "stream",
          "name": "stderr",
          "text": [
            "<ipython-input-16-f9fd4fe56434>:2: FutureWarning: The default value of numeric_only in DataFrame.sum is deprecated. In a future version, it will default to False. In addition, specifying 'numeric_only=None' is deprecated. Select only valid columns or specify the value of numeric_only to silence this warning.\n",
            "  print(df.sum())\n"
          ]
        }
      ]
    },
    {
      "cell_type": "code",
      "source": [
        "#THIS IS HOW TO APPLY THE MAX ATTRIBUTE TO THE DATA\n",
        "print(df.max())"
      ],
      "metadata": {
        "colab": {
          "base_uri": "https://localhost:8080/"
        },
        "id": "5k5pb_OIeXN4",
        "outputId": "5d74b95f-6555-4306-c9cb-c37949076c76"
      },
      "execution_count": null,
      "outputs": [
        {
          "output_type": "stream",
          "name": "stdout",
          "text": [
            "cdi                                                      8.4\n",
            "code                                                80314224\n",
            "detail     https://earthquake.usgs.gov/fdsnws/event/1/que...\n",
            "dmin                                                  53.737\n",
            "felt                                                   580.0\n",
            "gap                                                   355.91\n",
            "ids                                             ,uw61437386,\n",
            "mag                                                      7.5\n",
            "mmi                                                     9.12\n",
            "net                                                       uw\n",
            "nst                                                    172.0\n",
            "place                                         Western Xizang\n",
            "rms                                                     1.91\n",
            "sig                                                     2015\n",
            "sources                                              ,uw,us,\n",
            "status                                              reviewed\n",
            "time                                           1539475168010\n",
            "title                         M ? - 13km NW of Parkfield, CA\n",
            "tsunami                                                    1\n",
            "type                                            quarry blast\n",
            "types                      ,nearby-cities,origin,phase-data,\n",
            "tz                                                     720.0\n",
            "updated                                        1539536756176\n",
            "url        https://earthquake.usgs.gov/earthquakes/eventp...\n",
            "dtype: object\n"
          ]
        },
        {
          "output_type": "stream",
          "name": "stderr",
          "text": [
            "<ipython-input-17-51ddeaacd7d1>:2: FutureWarning: The default value of numeric_only in DataFrame.max is deprecated. In a future version, it will default to False. In addition, specifying 'numeric_only=None' is deprecated. Select only valid columns or specify the value of numeric_only to silence this warning.\n",
            "  print(df.max())\n"
          ]
        }
      ]
    },
    {
      "cell_type": "code",
      "source": [
        "#THIS IS HOW TO APPLY THE MIN ATTRIBUTE TO THE DATA\n",
        "print(df.min())"
      ],
      "metadata": {
        "colab": {
          "base_uri": "https://localhost:8080/"
        },
        "id": "dMYV_oaoe8T1",
        "outputId": "a9f532af-00a1-443b-f162-e97dd07db81d"
      },
      "execution_count": null,
      "outputs": [
        {
          "output_type": "stream",
          "name": "stdout",
          "text": [
            "cdi                                                      0.0\n",
            "code                                                00657027\n",
            "detail     https://earthquake.usgs.gov/fdsnws/event/1/que...\n",
            "dmin                                                0.000648\n",
            "felt                                                     0.0\n",
            "gap                                                     12.0\n",
            "ids                                             ,ak20257023,\n",
            "mag                                                    -1.26\n",
            "mmi                                                      0.0\n",
            "net                                                       ak\n",
            "nst                                                      0.0\n",
            "place                               0km NE of Pahala, Hawaii\n",
            "rms                                                      0.0\n",
            "sig                                                        0\n",
            "sources                                                 ,ak,\n",
            "status                                             automatic\n",
            "time                                           1537228864470\n",
            "title                        M -0.0 - 10km NE of Aguanga, CA\n",
            "tsunami                                                    0\n",
            "type                                              earthquake\n",
            "types      ,dyfi,finite-fault,general-text,geoserve,groun...\n",
            "tz                                                    -720.0\n",
            "updated                                        1537230211640\n",
            "url        https://earthquake.usgs.gov/earthquakes/eventp...\n",
            "dtype: object\n"
          ]
        },
        {
          "output_type": "stream",
          "name": "stderr",
          "text": [
            "<ipython-input-18-a7e94ceeeedc>:2: FutureWarning: The default value of numeric_only in DataFrame.min is deprecated. In a future version, it will default to False. In addition, specifying 'numeric_only=None' is deprecated. Select only valid columns or specify the value of numeric_only to silence this warning.\n",
            "  print(df.min())\n"
          ]
        }
      ]
    },
    {
      "cell_type": "code",
      "source": [
        " #THIS IS HOW TO APPLY THE LOC ATTRIBUTE TO THE DATA\n",
        " print(df.loc)"
      ],
      "metadata": {
        "colab": {
          "base_uri": "https://localhost:8080/",
          "height": 192
        },
        "id": "HGwcXLJufB76",
        "outputId": "7a481593-4bfb-45fc-abd2-797685c9ee4e"
      },
      "execution_count": null,
      "outputs": [
        {
          "output_type": "error",
          "ename": "NameError",
          "evalue": "ignored",
          "traceback": [
            "\u001b[0;31m---------------------------------------------------------------------------\u001b[0m",
            "\u001b[0;31mNameError\u001b[0m                                 Traceback (most recent call last)",
            "\u001b[0;32m<ipython-input-6-2dd272f1ac8f>\u001b[0m in \u001b[0;36m<cell line: 2>\u001b[0;34m()\u001b[0m\n\u001b[1;32m      1\u001b[0m \u001b[0;31m#THIS IS HOW TO APPLY THE LOC ATTRIBUTE TO THE DATA\u001b[0m\u001b[0;34m\u001b[0m\u001b[0;34m\u001b[0m\u001b[0m\n\u001b[0;32m----> 2\u001b[0;31m \u001b[0mprint\u001b[0m\u001b[0;34m(\u001b[0m\u001b[0mdf\u001b[0m\u001b[0;34m.\u001b[0m\u001b[0mloc\u001b[0m\u001b[0;34m)\u001b[0m\u001b[0;34m\u001b[0m\u001b[0;34m\u001b[0m\u001b[0m\n\u001b[0m",
            "\u001b[0;31mNameError\u001b[0m: name 'df' is not defined"
          ]
        }
      ]
    },
    {
      "cell_type": "code",
      "source": [
        "#THIS IS HOW TO APPLY THE ILOC ATTRIBUTE TO THE DATA\n",
        "print(df.iloc())"
      ],
      "metadata": {
        "colab": {
          "base_uri": "https://localhost:8080/"
        },
        "id": "uTSwohTlfSEg",
        "outputId": "f6174e15-81ff-47a6-d008-e9f4852fc05e"
      },
      "execution_count": null,
      "outputs": [
        {
          "output_type": "stream",
          "name": "stdout",
          "text": [
            "<pandas.core.indexing._iLocIndexer object at 0x7c09e60935b0>\n"
          ]
        }
      ]
    },
    {
      "cell_type": "code",
      "source": [
        "#THIS IS HOW TO APPLY THE ISIN() IN DATAFRAME ATTRIBUTE TO THE DATA\n",
        "print(df.isin(['1']))"
      ],
      "metadata": {
        "colab": {
          "base_uri": "https://localhost:8080/"
        },
        "id": "I3IoNrSnfy2G",
        "outputId": "3467906f-089c-4bc1-cf63-e925f94eefbc"
      },
      "execution_count": null,
      "outputs": [
        {
          "output_type": "stream",
          "name": "stdout",
          "text": [
            "      alert    cdi   code  detail   dmin   felt    gap    ids    mag  magType  \\\n",
            "0     False  False  False   False  False  False  False  False  False    False   \n",
            "1     False  False  False   False  False  False  False  False  False    False   \n",
            "2     False  False  False   False  False  False  False  False  False    False   \n",
            "3     False  False  False   False  False  False  False  False  False    False   \n",
            "4     False  False  False   False  False  False  False  False  False    False   \n",
            "...     ...    ...    ...     ...    ...    ...    ...    ...    ...      ...   \n",
            "9327  False  False  False   False  False  False  False  False  False    False   \n",
            "9328  False  False  False   False  False  False  False  False  False    False   \n",
            "9329  False  False  False   False  False  False  False  False  False    False   \n",
            "9330  False  False  False   False  False  False  False  False  False    False   \n",
            "9331  False  False  False   False  False  False  False  False  False    False   \n",
            "\n",
            "      ...  sources  status   time  title  tsunami   type  types     tz  \\\n",
            "0     ...    False   False  False  False    False  False  False  False   \n",
            "1     ...    False   False  False  False    False  False  False  False   \n",
            "2     ...    False   False  False  False    False  False  False  False   \n",
            "3     ...    False   False  False  False    False  False  False  False   \n",
            "4     ...    False   False  False  False    False  False  False  False   \n",
            "...   ...      ...     ...    ...    ...      ...    ...    ...    ...   \n",
            "9327  ...    False   False  False  False    False  False  False  False   \n",
            "9328  ...    False   False  False  False    False  False  False  False   \n",
            "9329  ...    False   False  False  False    False  False  False  False   \n",
            "9330  ...    False   False  False  False    False  False  False  False   \n",
            "9331  ...    False   False  False  False    False  False  False  False   \n",
            "\n",
            "      updated    url  \n",
            "0       False  False  \n",
            "1       False  False  \n",
            "2       False  False  \n",
            "3       False  False  \n",
            "4       False  False  \n",
            "...       ...    ...  \n",
            "9327    False  False  \n",
            "9328    False  False  \n",
            "9329    False  False  \n",
            "9330    False  False  \n",
            "9331    False  False  \n",
            "\n",
            "[9332 rows x 26 columns]\n"
          ]
        }
      ]
    },
    {
      "cell_type": "code",
      "source": [
        "#Knowing the Mean of every column\n",
        "print(df.mean())"
      ],
      "metadata": {
        "colab": {
          "base_uri": "https://localhost:8080/"
        },
        "id": "-iHiI4clgO5b",
        "outputId": "c0336ed8-6ae3-4623-feb7-32e4207b3ecf"
      },
      "execution_count": null,
      "outputs": [
        {
          "output_type": "stream",
          "name": "stdout",
          "text": [
            "cdi        2.754711e+00\n",
            "dmin       5.449253e-01\n",
            "felt       1.231003e+01\n",
            "gap        1.215066e+02\n",
            "mag        1.497345e+00\n",
            "mmi        3.651398e+00\n",
            "nst        1.905388e+01\n",
            "rms        3.621225e-01\n",
            "sig        5.689991e+01\n",
            "time       1.538284e+12\n",
            "tsunami    6.536648e-03\n",
            "tz        -4.519901e+02\n",
            "updated    1.538537e+12\n",
            "dtype: float64\n"
          ]
        },
        {
          "output_type": "stream",
          "name": "stderr",
          "text": [
            "<ipython-input-22-46f41086cfb3>:2: FutureWarning: The default value of numeric_only in DataFrame.mean is deprecated. In a future version, it will default to False. In addition, specifying 'numeric_only=None' is deprecated. Select only valid columns or specify the value of numeric_only to silence this warning.\n",
            "  print(df.mean())\n"
          ]
        }
      ]
    },
    {
      "cell_type": "code",
      "source": [
        " #Knwing the data range of particlualr column indexes\n",
        " df[110:113]['mag']\n"
      ],
      "metadata": {
        "colab": {
          "base_uri": "https://localhost:8080/"
        },
        "id": "dc2oCahnj0aG",
        "outputId": "a095e9a2-ee9b-4808-edc9-d0037c49f4c8"
      },
      "execution_count": null,
      "outputs": [
        {
          "output_type": "execute_result",
          "data": {
            "text/plain": [
              "110    1.1\n",
              "111    1.9\n",
              "112    0.9\n",
              "Name: mag, dtype: float64"
            ]
          },
          "metadata": {},
          "execution_count": 25
        }
      ]
    },
    {
      "cell_type": "code",
      "source": [
        "#Knowing the \"Title\" associated with the dataframe\n",
        " df.loc[110:112, 'title']"
      ],
      "metadata": {
        "colab": {
          "base_uri": "https://localhost:8080/",
          "height": 140
        },
        "id": "csZ9q7hnkbEx",
        "outputId": "4b6d7e82-0cc6-4626-e389-97799f189dc4"
      },
      "execution_count": null,
      "outputs": [
        {
          "output_type": "error",
          "ename": "IndentationError",
          "evalue": "ignored",
          "traceback": [
            "\u001b[0;36m  File \u001b[0;32m\"<ipython-input-24-d0eb171a6845>\"\u001b[0;36m, line \u001b[0;32m2\u001b[0m\n\u001b[0;31m    df.loc[110:112, 'title']\u001b[0m\n\u001b[0m    ^\u001b[0m\n\u001b[0;31mIndentationError\u001b[0m\u001b[0;31m:\u001b[0m unexpected indent\n"
          ]
        }
      ]
    },
    {
      "cell_type": "code",
      "source": [
        "#Filtering using logical opearions in Dataframe, chekcing the condtions\n",
        "df.mag>2.5\n"
      ],
      "metadata": {
        "id": "IeXO6zyoknya"
      },
      "execution_count": null,
      "outputs": []
    },
    {
      "cell_type": "code",
      "source": [
        "#Printing the respective Rows of Dataframe where conditons satisfy\n",
        "df[df.mag >= 2.5]\n"
      ],
      "metadata": {
        "id": "_5n8o2LPk5Ff"
      },
      "execution_count": null,
      "outputs": []
    },
    {
      "cell_type": "code",
      "source": [
        " #Chcecking Multiple Condtions and priting the Data\n",
        " df.loc[\n",
        "    (df.tsunami == 1) | (df.alert == 'red'),\n",
        "     ['alert', 'mag', 'magType', 'title', 'tsunami', 'type']\n",
        "     ]\n"
      ],
      "metadata": {
        "id": "63VqM18hlbQv"
      },
      "execution_count": null,
      "outputs": []
    },
    {
      "cell_type": "code",
      "source": [],
      "metadata": {
        "id": "nmcrMHd2l1aS"
      },
      "execution_count": null,
      "outputs": []
    }
  ]
}