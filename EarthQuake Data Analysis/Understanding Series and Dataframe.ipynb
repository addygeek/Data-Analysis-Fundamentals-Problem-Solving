{
  "nbformat": 4,
  "nbformat_minor": 0,
  "metadata": {
    "colab": {
      "provenance": []
    },
    "kernelspec": {
      "name": "python3",
      "display_name": "Python 3"
    },
    "language_info": {
      "name": "python"
    }
  },
  "cells": [
    {
      "cell_type": "markdown",
      "source": [
        "### **Understanding Series and Dataframe**"
      ],
      "metadata": {
        "id": "24CYAxVWOysC"
      }
    },
    {
      "cell_type": "code",
      "execution_count": null,
      "metadata": {
        "id": "YjpmTguvGsox"
      },
      "outputs": [],
      "source": [
        "#First let's Import the Pandas libray\n",
        "import pandas as pd"
      ]
    },
    {
      "cell_type": "code",
      "source": [
        "a = [1,\"Aditya\",89.5,100]\n",
        "b = ([1,\"Aditya\",89.5,100],[2,\"Anurag\",88.8,100],[\"3\",\"Devansh\",90.9,100])\n",
        "print(a)\n",
        "print(b)\n",
        "#Here lets define Series\n",
        "a_series = pd.Series(a)\n",
        "print(a_series)\n",
        "#Here lets define the DataFrame\n",
        "b_dataframe = pd.DataFrame(b,index=[\"First\",\"Second\",\"Third\"])\n",
        "b_dataframe.drop([0],axis=1,inplace=True)\n",
        "print(b_dataframe)"
      ],
      "metadata": {
        "colab": {
          "base_uri": "https://localhost:8080/"
        },
        "id": "0ggQclPhG_Et",
        "outputId": "e8de657c-9a31-42c5-de4a-9eac90bab9ca"
      },
      "execution_count": null,
      "outputs": [
        {
          "output_type": "stream",
          "name": "stdout",
          "text": [
            "[1, 'Aditya', 89.5, 100]\n",
            "([1, 'Aditya', 89.5, 100], [2, 'Anurag', 88.8, 100], ['3', 'Devansh', 90.9, 100])\n",
            "0         1\n",
            "1    Aditya\n",
            "2      89.5\n",
            "3       100\n",
            "dtype: object\n",
            "              1     2    3\n",
            "First    Aditya  89.5  100\n",
            "Second   Anurag  88.8  100\n",
            "Third   Devansh  90.9  100\n"
          ]
        }
      ]
    },
    {
      "cell_type": "code",
      "source": [
        "#Series Data operations\n",
        "print(a_series)\n",
        "print(type(a_series))"
      ],
      "metadata": {
        "colab": {
          "base_uri": "https://localhost:8080/"
        },
        "id": "Vxs4n8c1OCUC",
        "outputId": "6f407a3e-8e72-4ecf-d819-19f2065c4898"
      },
      "execution_count": null,
      "outputs": [
        {
          "output_type": "stream",
          "name": "stdout",
          "text": [
            "0         1\n",
            "1    Aditya\n",
            "2      89.5\n",
            "3       100\n",
            "dtype: object\n",
            "<class 'pandas.core.series.Series'>\n"
          ]
        }
      ]
    },
    {
      "cell_type": "code",
      "source": [
        "#Dataframe Data operations\n",
        "print(b_dataframe)\n",
        "print(type(b_dataframe))"
      ],
      "metadata": {
        "colab": {
          "base_uri": "https://localhost:8080/"
        },
        "id": "jByvQYcfOIGg",
        "outputId": "c9d10a50-3fac-4d34-c077-01d8cd455f37"
      },
      "execution_count": null,
      "outputs": [
        {
          "output_type": "stream",
          "name": "stdout",
          "text": [
            "              1     2    3\n",
            "First    Aditya  89.5  100\n",
            "Second   Anurag  88.8  100\n",
            "Third   Devansh  90.9  100\n",
            "<class 'pandas.core.frame.DataFrame'>\n"
          ]
        }
      ]
    },
    {
      "cell_type": "code",
      "source": [
        "#Mutaion in Series\n",
        "a_Series = pd.DataFrame(b,index =[\"Student1\",\"Stduent2\",\"Studennt3\"])\n",
        "print(a_Series)\n",
        "print(\"Lets's see the data type of Dataframe\\n\",a_Series.dtypes)"
      ],
      "metadata": {
        "colab": {
          "base_uri": "https://localhost:8080/"
        },
        "id": "wq5jnGn6HXzY",
        "outputId": "7cbfe8aa-86c0-417b-bdc0-bc8dcb6453af"
      },
      "execution_count": null,
      "outputs": [
        {
          "output_type": "stream",
          "name": "stdout",
          "text": [
            "           0        1     2    3\n",
            "Student1   1   Aditya  89.5  100\n",
            "Stduent2   2   Anurag  88.8  100\n",
            "Studennt3  3  Devansh  90.9  100\n",
            "Lets's see the data type of Dataframe\n",
            " 0     object\n",
            "1     object\n",
            "2    float64\n",
            "3      int64\n",
            "dtype: object\n"
          ]
        }
      ]
    },
    {
      "cell_type": "code",
      "source": [
        "#Mutation in DataFrame\n",
        "b_dataframe = pd.DataFrame(b,index =[\"Student1\",\"Stduent2\",\"Studennt3\"])\n",
        "print(b_dataframe)\n",
        "print(\"Lets's see the data type of Dataframe\\n\",b_dataframe.dtypes)"
      ],
      "metadata": {
        "colab": {
          "base_uri": "https://localhost:8080/"
        },
        "id": "qJDWOi4thE-v",
        "outputId": "8b465482-025f-4471-f1d3-f5cc453bb29c"
      },
      "execution_count": null,
      "outputs": [
        {
          "output_type": "stream",
          "name": "stdout",
          "text": [
            "           0        1     2    3\n",
            "Student1   1   Aditya  89.5  100\n",
            "Stduent2   2   Anurag  88.8  100\n",
            "Studennt3  3  Devansh  90.9  100\n",
            "Lets's see the data type of Dataframe\n",
            " 0     object\n",
            "1     object\n",
            "2    float64\n",
            "3      int64\n",
            "dtype: object\n"
          ]
        }
      ]
    },
    {
      "cell_type": "markdown",
      "source": [],
      "metadata": {
        "id": "74NhO-igOw5I"
      }
    },
    {
      "cell_type": "code",
      "source": [
        "#Lets' Export this Data in Excel:\n",
        "b_dataframe.to_excel(\"studensts.xlsx\")\n",
        "#It will export and download the above Dataframe set in Excel Formate"
      ],
      "metadata": {
        "id": "3_n7WtFbIRwc"
      },
      "execution_count": null,
      "outputs": []
    },
    {
      "cell_type": "code",
      "source": [
        "#Knowing Series\n",
        "print(a_Series.info())"
      ],
      "metadata": {
        "colab": {
          "base_uri": "https://localhost:8080/"
        },
        "id": "F9Cc643iJUt9",
        "outputId": "02767064-f95e-42f6-c64b-92e8528dc238"
      },
      "execution_count": null,
      "outputs": [
        {
          "output_type": "stream",
          "name": "stdout",
          "text": [
            "<class 'pandas.core.frame.DataFrame'>\n",
            "Index: 3 entries, Student1 to Studennt3\n",
            "Data columns (total 4 columns):\n",
            " #   Column  Non-Null Count  Dtype  \n",
            "---  ------  --------------  -----  \n",
            " 0   0       3 non-null      object \n",
            " 1   1       3 non-null      object \n",
            " 2   2       3 non-null      float64\n",
            " 3   3       3 non-null      int64  \n",
            "dtypes: float64(1), int64(1), object(2)\n",
            "memory usage: 120.0+ bytes\n",
            "None\n"
          ]
        }
      ]
    },
    {
      "cell_type": "code",
      "source": [
        "#Knowing DataFrame\n",
        "print(b_dataframe.info())"
      ],
      "metadata": {
        "id": "HZ0OrJtWhr7j"
      },
      "execution_count": null,
      "outputs": []
    },
    {
      "cell_type": "code",
      "source": [
        "marks= b_dataframe[2]\n",
        "print(marks)"
      ],
      "metadata": {
        "colab": {
          "base_uri": "https://localhost:8080/"
        },
        "id": "V7-z1_dzKjp9",
        "outputId": "d762dcf7-7c29-4146-ef5f-dfb82518c78c"
      },
      "execution_count": null,
      "outputs": [
        {
          "output_type": "stream",
          "name": "stdout",
          "text": [
            "Student1     89.5\n",
            "Stduent2     88.8\n",
            "Studennt3    90.9\n",
            "Name: 2, dtype: float64\n"
          ]
        }
      ]
    },
    {
      "cell_type": "code",
      "source": [
        "name_marks = b_dataframe[[1,2]]\n",
        "print(name_marks)\n",
        "name_marks[[1,2]].shape"
      ],
      "metadata": {
        "colab": {
          "base_uri": "https://localhost:8080/"
        },
        "id": "xP2gGGrTLCg9",
        "outputId": "1964f100-a8e2-49bf-e616-f47206057020"
      },
      "execution_count": null,
      "outputs": [
        {
          "output_type": "stream",
          "name": "stdout",
          "text": [
            "                 1     2\n",
            "Student1    Aditya  89.5\n",
            "Stduent2    Anurag  88.8\n",
            "Studennt3  Devansh  90.9\n"
          ]
        },
        {
          "output_type": "execute_result",
          "data": {
            "text/plain": [
              "(3, 2)"
            ]
          },
          "metadata": {},
          "execution_count": 39
        }
      ]
    }
  ]
}