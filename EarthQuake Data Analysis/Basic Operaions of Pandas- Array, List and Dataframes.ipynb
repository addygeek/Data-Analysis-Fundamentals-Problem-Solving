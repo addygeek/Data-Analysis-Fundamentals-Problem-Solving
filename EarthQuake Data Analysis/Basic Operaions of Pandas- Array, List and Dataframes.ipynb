{
  "nbformat": 4,
  "nbformat_minor": 0,
  "metadata": {
    "colab": {
      "provenance": []
    },
    "kernelspec": {
      "name": "python3",
      "display_name": "Python 3"
    },
    "language_info": {
      "name": "python"
    }
  },
  "cells": [
    {
      "cell_type": "markdown",
      "source": [
        "### **Let's Deep Dive Into Basic Operaions of Pandas- Array, List and Dataframes**"
      ],
      "metadata": {
        "id": "fU8FdKWWOnTq"
      }
    },
    {
      "cell_type": "code",
      "execution_count": null,
      "metadata": {
        "colab": {
          "base_uri": "https://localhost:8080/"
        },
        "id": "1p_zVxqP_dBQ",
        "outputId": "b1b47fed-f908-4aff-d3f5-ac7ed23d60c4"
      },
      "outputs": [
        {
          "output_type": "stream",
          "name": "stdout",
          "text": [
            "1.5.3\n"
          ]
        }
      ],
      "source": [
        "import pandas as pd\n",
        "#Knowing the version of Pandas\n",
        "print(pd.__version__)"
      ]
    },
    {
      "cell_type": "code",
      "source": [
        "#Defined new ARRAY using Pandas\n",
        "a1= pd.array([1,2,3,4])\n",
        "a2= pd.array([3,56,6,4])\n",
        "print(a1+a2)\n",
        "print(type(a1))"
      ],
      "metadata": {
        "colab": {
          "base_uri": "https://localhost:8080/"
        },
        "id": "YWPmO0br_g_c",
        "outputId": "fbb31e46-c381-4291-b34a-2447f8a91008"
      },
      "execution_count": null,
      "outputs": [
        {
          "output_type": "stream",
          "name": "stdout",
          "text": [
            "<IntegerArray>\n",
            "[4, 58, 9, 8]\n",
            "Length: 4, dtype: Int64\n",
            "<class 'pandas.core.arrays.integer.IntegerArray'>\n"
          ]
        }
      ]
    },
    {
      "cell_type": "code",
      "source": [
        "#List Defined\n",
        "list = [1,43,64,12]\n",
        "print(list,\"is of datatype:\",type(list))\n",
        "s1= pd.Series(list)\n",
        "print(s1,\"is of datatype\",type(s1))"
      ],
      "metadata": {
        "colab": {
          "base_uri": "https://localhost:8080/"
        },
        "id": "dFkbhB9l_k2l",
        "outputId": "c9a41147-3ece-40ea-e140-d68cfd0f0ac1"
      },
      "execution_count": null,
      "outputs": [
        {
          "output_type": "stream",
          "name": "stdout",
          "text": [
            "[1, 43, 64, 12] is of datatype: <class 'list'>\n",
            "0     1\n",
            "1    43\n",
            "2    64\n",
            "3    12\n",
            "dtype: int64 is of datatype <class 'pandas.core.series.Series'>\n"
          ]
        }
      ]
    },
    {
      "cell_type": "code",
      "source": [
        "#Let's Create Index in Pandas with help of Series\n",
        "news1 = pd.Series(list,index=[\"a\",\"b\",\"c\",\"d\"])\n",
        "print(news1)\n",
        "#Now to access the created new index:-\n",
        "print(news1[0],\"=\",news1[\"a\"]) #Here 0th index is got another name as \"a\""
      ],
      "metadata": {
        "colab": {
          "base_uri": "https://localhost:8080/"
        },
        "id": "8yzABT5x_36Q",
        "outputId": "59293e6d-ec5e-438f-f6b2-cda2fc3a2200"
      },
      "execution_count": null,
      "outputs": [
        {
          "output_type": "stream",
          "name": "stdout",
          "text": [
            "a     1\n",
            "b    43\n",
            "c    64\n",
            "d    12\n",
            "dtype: int64\n",
            "1 = 1\n"
          ]
        }
      ]
    },
    {
      "cell_type": "code",
      "source": [
        "#Playing with Strings with Pandas\n",
        "marks = {\"Maths\":88,\"PPS\":100,\"DBMS\":97,\"OS\":99}\n",
        "print(\"Here is simple dictonary format : \",marks)\n",
        "new_marks= pd.Series(marks)\n",
        "print(new_marks)"
      ],
      "metadata": {
        "colab": {
          "base_uri": "https://localhost:8080/"
        },
        "id": "zMYmrpZlA8qs",
        "outputId": "0d983991-904d-4c09-81e8-9dc2237751f9"
      },
      "execution_count": null,
      "outputs": [
        {
          "output_type": "stream",
          "name": "stdout",
          "text": [
            "Here is simple dictonary format :  {'Maths': 88, 'PPS': 100, 'DBMS': 97, 'OS': 99}\n",
            "Maths     88\n",
            "PPS      100\n",
            "DBMS      97\n",
            "OS        99\n",
            "dtype: int64\n"
          ]
        }
      ]
    },
    {
      "cell_type": "code",
      "source": [
        "#Let's dive into Dataframs(df)\n",
        "#Data sets in Pandas are usually multi-dimensional tables, called DataFrames.\n",
        "data ={\n",
        "    \"Roll_no\":[1,2,3,4],\n",
        "    \"Average_Marks\": [76.5,75.4,96.5,66.8]\n",
        "}\n",
        "print(data)\n",
        "data_2d = pd.DataFrame(data)\n",
        "print(data_2d)\n"
      ],
      "metadata": {
        "colab": {
          "base_uri": "https://localhost:8080/"
        },
        "id": "QgJzqGesCPs9",
        "outputId": "e1c20b39-e2f6-4601-a846-96dab06f5cec"
      },
      "execution_count": null,
      "outputs": [
        {
          "output_type": "stream",
          "name": "stdout",
          "text": [
            "{'Roll_no': [1, 2, 3, 4], 'Average_Marks': [76.5, 75.4, 96.5, 66.8]}\n",
            "   Roll_no  Average_Marks\n",
            "0        1           76.5\n",
            "1        2           75.4\n",
            "2        3           96.5\n",
            "3        4           66.8\n"
          ]
        }
      ]
    },
    {
      "cell_type": "markdown",
      "source": [],
      "metadata": {
        "id": "UoJuvulkOmkA"
      }
    },
    {
      "cell_type": "code",
      "source": [
        "#Individual Operations of Dataframs\n",
        "print(data_2d.loc[1])\n",
        "#lets find out average of"
      ],
      "metadata": {
        "colab": {
          "base_uri": "https://localhost:8080/"
        },
        "id": "RWP1I5PvDTRN",
        "outputId": "1a6c09a2-d5c9-4025-d9ef-82b96e7cfaec"
      },
      "execution_count": null,
      "outputs": [
        {
          "output_type": "stream",
          "name": "stdout",
          "text": [
            "Roll_no           2.0\n",
            "Average_Marks    75.4\n",
            "Name: 1, dtype: float64\n"
          ]
        }
      ]
    },
    {
      "cell_type": "code",
      "source": [
        "#Individual Operations of Dataframs\n",
        "print(data_2d.loc[2])"
      ],
      "metadata": {
        "id": "8Fo7SR3PFxZ-",
        "colab": {
          "base_uri": "https://localhost:8080/"
        },
        "outputId": "4cd826ef-3b2d-4bc5-e00f-eaa73356e56b"
      },
      "execution_count": null,
      "outputs": [
        {
          "output_type": "stream",
          "name": "stdout",
          "text": [
            "Roll_no           3.0\n",
            "Average_Marks    96.5\n",
            "Name: 2, dtype: float64\n"
          ]
        }
      ]
    },
    {
      "cell_type": "code",
      "source": [
        "#Dates defined and printing\n",
        "dates = pd.date_range(\"20130101\", periods=6)\n",
        "print(dates)"
      ],
      "metadata": {
        "colab": {
          "base_uri": "https://localhost:8080/"
        },
        "id": "2Puc8T6lc4Wz",
        "outputId": "3b422cd9-aa0d-49ef-c42c-d997e8f4fc4a"
      },
      "execution_count": null,
      "outputs": [
        {
          "output_type": "stream",
          "name": "stdout",
          "text": [
            "DatetimeIndex(['2013-01-01', '2013-01-02', '2013-01-03', '2013-01-04',\n",
            "               '2013-01-05', '2013-01-06'],\n",
            "              dtype='datetime64[ns]', freq='D')\n"
          ]
        }
      ]
    },
    {
      "cell_type": "code",
      "source": [],
      "metadata": {
        "id": "Hte7kdOpc5tf"
      },
      "execution_count": null,
      "outputs": []
    }
  ]
}