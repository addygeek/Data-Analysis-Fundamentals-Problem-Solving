{
  "nbformat": 4,
  "nbformat_minor": 0,
  "metadata": {
    "colab": {
      "provenance": []
    },
    "kernelspec": {
      "name": "python3",
      "display_name": "Python 3"
    },
    "language_info": {
      "name": "python"
    }
  },
  "cells": [
    {
      "cell_type": "markdown",
      "source": [
        "NUMPY: NumPy is the fundamental package for scientific computing in Python. It is a Python library that provides a multidimensional array object, various derived objects (such as masked arrays and matrices), and an assortment of routines for\n",
        "fast operations on arrays, including mathematical, logical, shape manipulation, sorting, selecting, I/O, discrete Fourier\n",
        "transforms, basic linear algebra, basic statistical operations, random simulation and much more."
      ],
      "metadata": {
        "id": "1JDQUqM7gMwZ"
      }
    },
    {
      "cell_type": "code",
      "execution_count": 2,
      "metadata": {
        "id": "djRSKzgogDZQ"
      },
      "outputs": [],
      "source": [
        "#Let's Start with Importing NUMPY first\n",
        "import numpy as np"
      ]
    },
    {
      "cell_type": "markdown",
      "source": [
        "The N-dimensional array (ndarray)\n",
        "An ndarray is a (usually fixed-size) multidimensional container of items of the same type and size. The number of dimensions and items in an array is defined by its shape, which is a tuple of N non-negative integers that specify the sizes of each dimension. The type of items in the array is specified by a separate data-type object (dtype), one of which is associated with each ndarray."
      ],
      "metadata": {
        "id": "wV2nhmNZmGR1"
      }
    },
    {
      "cell_type": "code",
      "source": [
        "#Let's first create 3 x 3 Numpy multidimental array\n",
        "x = np.array([[1,3,5],[2,4,6],[6,8,9]])\n",
        "print(\"Here is the 3x3 Numpy matrix:\\n\",x)\n",
        "#Note in Numpy array index start from 0\n",
        "#Let's start Array Indexing part and access each elements below\n",
        "print(\"\\n Here is 1st Row elements:\",x[0])\n",
        "print(\"\\n Here is 1st Row, 1st element:\",x[0][0])\n",
        "print(\"\\n Here is last Row, last element:\",x[2][2])\n",
        "print(\"\\n Here is second Row, second column element:\",x[1,1])\n",
        "print(\"\\n Data type of created N dimenstional array\",type(x))\n",
        "print(\"\\n Numpy Shape/Dimention size: \",x.shape)\n",
        "print(\"\\n Numpy Datatype: \",x.dtype)\n"
      ],
      "metadata": {
        "colab": {
          "base_uri": "https://localhost:8080/"
        },
        "id": "n1stbFvNgMRR",
        "outputId": "f1492807-52a2-440e-bf0c-6e76bec1d33d"
      },
      "execution_count": null,
      "outputs": [
        {
          "output_type": "stream",
          "name": "stdout",
          "text": [
            "Here is the 3x3 Numpy matrix:\n",
            " [[1 3 5]\n",
            " [2 4 6]\n",
            " [6 8 9]]\n",
            "\n",
            " Here is 1st Row elements: [1 3 5]\n",
            "\n",
            " Here is 1st Row, 1st element: 1\n",
            "\n",
            " Here is last Row, last element: 9\n",
            "\n",
            " Here is second Row, second column element: 4\n",
            "\n",
            " Data type of created N dimenstional array <class 'numpy.ndarray'>\n",
            "\n",
            " Numpy Shape/Dimention size:  (3, 3)\n",
            "\n",
            " Numpy Datatype:  int64\n"
          ]
        }
      ]
    },
    {
      "cell_type": "code",
      "source": [
        "#We can trasnfor the array to data type\n",
        "x.astype(float)"
      ],
      "metadata": {
        "colab": {
          "base_uri": "https://localhost:8080/"
        },
        "id": "SwJ0oBY4jLDs",
        "outputId": "c25a6105-4ace-43c1-fe48-a8406bf9d5ba"
      },
      "execution_count": null,
      "outputs": [
        {
          "output_type": "execute_result",
          "data": {
            "text/plain": [
              "array([[1., 3., 5.],\n",
              "       [2., 4., 6.],\n",
              "       [6., 8., 9.]])"
            ]
          },
          "metadata": {},
          "execution_count": 84
        }
      ]
    },
    {
      "cell_type": "code",
      "source": [
        "#Lets slice the above x array:\n",
        "#Note : [1:2] means we access the 1st row and 2nd column index (rows,column) format\n",
        "print(\"Lets print the first Column all elements\\n\",x[:,0:1])\n",
        "print(\"Let's print the 2nd Row all elements\\n\",x[1:2])\n"
      ],
      "metadata": {
        "colab": {
          "base_uri": "https://localhost:8080/"
        },
        "id": "l_632u8Jjvmr",
        "outputId": "35c3c8df-16da-415a-ee48-61d04c7f3113"
      },
      "execution_count": null,
      "outputs": [
        {
          "output_type": "stream",
          "name": "stdout",
          "text": [
            "Lets print the first Column all elements\n",
            " [[1]\n",
            " [2]\n",
            " [6]]\n",
            "Let's print the 2nd Row all elements\n",
            " [[2 4 6]]\n"
          ]
        }
      ]
    },
    {
      "cell_type": "code",
      "source": [
        "#Negative slicing\n",
        "print(\"Here we perfomed negative slicing by putting index -1 which access the last element of numpy array: \",x[-1])"
      ],
      "metadata": {
        "colab": {
          "base_uri": "https://localhost:8080/"
        },
        "id": "TwqihZ3Ln4IM",
        "outputId": "7fc73286-41ed-4bb5-937b-defdfed768e8"
      },
      "execution_count": null,
      "outputs": [
        {
          "output_type": "stream",
          "name": "stdout",
          "text": [
            "Here we perfomed negative slicing by putting index -1 which access the last element of numpy array:  [6 8 9]\n"
          ]
        }
      ]
    },
    {
      "cell_type": "code",
      "source": [
        "#Start Stop Step\n",
        "series = np.array([1,3,5,8,12])\n",
        "print(series[0:8:3])\n",
        "print(series[::-1])"
      ],
      "metadata": {
        "colab": {
          "base_uri": "https://localhost:8080/"
        },
        "id": "97LZyQjFvX7u",
        "outputId": "3aba026d-9e00-4ab1-c3f3-bcd6957c32dd"
      },
      "execution_count": null,
      "outputs": [
        {
          "output_type": "stream",
          "name": "stdout",
          "text": [
            "[1 8]\n",
            "[12  8  5  2  1]\n"
          ]
        }
      ]
    },
    {
      "cell_type": "code",
      "source": [
        "#lets generate the sequence of array by \"np/arrange\" attribute\n",
        "a = np.arange(20)\n",
        "print(\"Below is the new generated array from numpy\\n\")\n",
        "print(a)\n",
        "s = slice(1,15,3)\n",
        "print(\"Let's use Start:Stop:Step Slicing on it\")\n",
        "print(a[s])\n",
        "print(\"Sequence:\",a[2:10])"
      ],
      "metadata": {
        "colab": {
          "base_uri": "https://localhost:8080/"
        },
        "id": "CjV6YdVnw9dP",
        "outputId": "9e9af756-0711-4291-be7f-77358535e348"
      },
      "execution_count": null,
      "outputs": [
        {
          "output_type": "stream",
          "name": "stdout",
          "text": [
            "Below is the new generated array from numpy\n",
            "\n",
            "[ 0  1  2  3  4  5  6  7  8  9 10 11 12 13 14 15 16 17 18 19]\n",
            "Let's use Start:Stop:Step Slicing on it\n",
            "[ 1  4  7 10 13]\n"
          ]
        }
      ]
    },
    {
      "cell_type": "markdown",
      "source": [
        "Creating a 1-D array"
      ],
      "metadata": {
        "id": "M3ZT30W7XQER"
      }
    },
    {
      "cell_type": "code",
      "source": [
        "l=[0,1,2,3,4,5]\n",
        "arr1=np.array(l)\n",
        "print(arr1)\n",
        "type(arr1)"
      ],
      "metadata": {
        "id": "NuXa2AI60a9w",
        "colab": {
          "base_uri": "https://localhost:8080/"
        },
        "outputId": "7143ca25-dc3d-40bf-f23f-b466cbf9b93f"
      },
      "execution_count": 3,
      "outputs": [
        {
          "output_type": "stream",
          "name": "stdout",
          "text": [
            "[0 1 2 3 4 5]\n"
          ]
        },
        {
          "output_type": "execute_result",
          "data": {
            "text/plain": [
              "numpy.ndarray"
            ]
          },
          "metadata": {},
          "execution_count": 3
        }
      ]
    },
    {
      "cell_type": "markdown",
      "source": [
        "Arrays store only one kind of datatype"
      ],
      "metadata": {
        "id": "GjTOdINWXYGo"
      }
    },
    {
      "cell_type": "code",
      "source": [
        "l2=['s',0,2,3,4,8]\n",
        "arr2=np.array(l2)\n",
        "print(arr2)"
      ],
      "metadata": {
        "colab": {
          "base_uri": "https://localhost:8080/"
        },
        "id": "eQshHpeOXVYX",
        "outputId": "b3341de4-4d56-409f-9c63-feb3b399976b"
      },
      "execution_count": 4,
      "outputs": [
        {
          "output_type": "stream",
          "name": "stdout",
          "text": [
            "['s' '0' '2' '3' '4' '8']\n"
          ]
        }
      ]
    },
    {
      "cell_type": "markdown",
      "source": [
        "Creating a 2-D array"
      ],
      "metadata": {
        "id": "N2kHxk2nXmJe"
      }
    },
    {
      "cell_type": "code",
      "source": [
        "l=[[1,2,3],[4,5,6]]\n",
        "arr2=np.array(l)\n",
        "print(arr2)"
      ],
      "metadata": {
        "colab": {
          "base_uri": "https://localhost:8080/"
        },
        "id": "q34Kg0HXXjJm",
        "outputId": "5cee9a8c-475a-4b28-8a8b-ae75cdca8c7e"
      },
      "execution_count": 5,
      "outputs": [
        {
          "output_type": "stream",
          "name": "stdout",
          "text": [
            "[[1 2 3]\n",
            " [4 5 6]]\n"
          ]
        }
      ]
    },
    {
      "cell_type": "markdown",
      "source": [
        "Creating a 3-D array"
      ],
      "metadata": {
        "id": "BVeajyoKXq1e"
      }
    },
    {
      "cell_type": "code",
      "source": [
        "l=[[[41,11,21],[23,22,32],[31,33,43]],[[4,44,54],[5,55,65],[6,66,76]],[[7,77,87],[8,88,98],[9,99,1300]]]\n",
        "arr3=np.array(l)\n",
        "print(arr3)"
      ],
      "metadata": {
        "colab": {
          "base_uri": "https://localhost:8080/"
        },
        "id": "i5vzT0tJXowV",
        "outputId": "dad90530-e0bd-457b-cf80-14ade1d44ad5"
      },
      "execution_count": 6,
      "outputs": [
        {
          "output_type": "stream",
          "name": "stdout",
          "text": [
            "[[[  41   11   21]\n",
            "  [  23   22   32]\n",
            "  [  31   33   43]]\n",
            "\n",
            " [[   4   44   54]\n",
            "  [   5   55   65]\n",
            "  [   6   66   76]]\n",
            "\n",
            " [[   7   77   87]\n",
            "  [   8   88   98]\n",
            "  [   9   99 1300]]]\n"
          ]
        }
      ]
    },
    {
      "cell_type": "markdown",
      "source": [
        "Random Function"
      ],
      "metadata": {
        "id": "iXgfibjcX0wd"
      }
    },
    {
      "cell_type": "code",
      "source": [
        "np.random.seed(100)\n",
        "print(\"\\n 1-D \\n\")\n",
        "a1=np.random.uniform(1,10,(2))\n",
        "print(\"Random samples from uniform distribution: \", a1)\n",
        "arr=np.random.rand(2)\n",
        "print(\"Random values \", arr)\n",
        "arr=np.random.random(2)\n",
        "print(\"Random values from 0-1\", arr)\n",
        "arr=np.random.normal(0,5,2)\n",
        "print(\"Random values with mean=0 & Standard Deviation=5: \", arr)\n",
        "arr=np.random.randint(10,size=4)\n",
        "print(\"Random integer values from 0-10\", arr)\n",
        "print(\"\\n 2-D \\n\")\n",
        "a1=np.random.uniform(1,10,(2,2))\n",
        "print(\"Random samples from uniform distribution: \\n \", a1)\n",
        "arr=np.random.rand(2,2)\n",
        "print(\"Random values \\n\", arr)\n",
        "arr=np.random.random((2,2))\n",
        "print(\"Random values from 0-1 \\n\", arr)\n",
        "arr=np.random.normal(0,5,(2,2))\n",
        "print(\"Random values with mean=0 & Standard Deviation=5: \\n \", arr)\n",
        "arr=np.random.randint(10,size=(4,4))\n",
        "print(\"Random integer values from 0-10 \\n\", arr)\n",
        "print(\"\\n 3-D \\n\")\n",
        "a1=np.random.uniform(1,10,(2,2,2))\n",
        "print(\"Random samples from uniform distribution: \\n\", a1)\n",
        "arr=np.random.rand(2,2,2)\n",
        "print(\"Random values from \\n\", arr)\n",
        "arr=np.random.random ((2,2,2))\n",
        "print(\"Random values from 0-1 \\n\", arr)\n",
        "arr=np.random.normal(0,5,(2,2,2))\n",
        "print(\"Random values with mean=0 & Standard Deviation=5: \\n \", arr)\n",
        "arr=np.random.randint(10,size=(4,4,4))\n",
        "print(\"Random integer values from 0-10 \\n\", arr)"
      ],
      "metadata": {
        "colab": {
          "base_uri": "https://localhost:8080/"
        },
        "id": "8psH280bXwp1",
        "outputId": "faf864d0-3786-4de6-9a60-321158d408ec"
      },
      "execution_count": 8,
      "outputs": [
        {
          "output_type": "stream",
          "name": "stdout",
          "text": [
            "\n",
            " 1-D \n",
            "\n",
            "Random samples from uniform distribution:  [5.89064448 3.50532447]\n",
            "Random values  [0.42451759 0.84477613]\n",
            "Random values from 0-1 [0.00471886 0.12156912]\n",
            "Random values with mean=0 & Standard Deviation=5:  [4.90660393 2.57109421]\n",
            "Random integer values from 0-10 [1 0 8 4]\n",
            "\n",
            " 2-D \n",
            "\n",
            "Random samples from uniform distribution: \n",
            "  [[6.61880699 5.7101297 ]\n",
            " [6.06066638 1.05235472]]\n",
            "Random values \n",
            " [[0.30742321 0.95018431]\n",
            " [0.12665424 0.07898787]]\n",
            "Random values from 0-1 \n",
            " [[0.31135313 0.63238359]\n",
            " [0.69935892 0.64196495]]\n",
            "Random values with mean=0 & Standard Deviation=5: \n",
            "  [[-1.15142543  2.40462058]\n",
            " [-6.3345529   1.35502546]]\n",
            "Random integer values from 0-10 \n",
            " [[2 9 9 3]\n",
            " [2 5 8 1]\n",
            " [0 7 6 2]\n",
            " [0 8 2 5]]\n",
            "\n",
            " 3-D \n",
            "\n",
            "Random samples from uniform distribution: \n",
            " [[[4.42966064 5.76339204]\n",
            "  [9.61189211 2.58239178]]\n",
            "\n",
            " [[2.06472553 8.76651103]\n",
            "  [1.67380192 8.42585376]]]\n",
            "Random values from \n",
            " [[[0.83613181 0.07539491]\n",
            "  [0.01140079 0.04842057]]\n",
            "\n",
            " [[0.35712271 0.66569338]\n",
            "  [0.01138961 0.10791777]]]\n",
            "Random values from 0-1 \n",
            " [[[0.9010131  0.79487876]\n",
            "  [0.81146098 0.64027806]]\n",
            "\n",
            " [[0.62477951 0.14550751]\n",
            "  [0.5702159  0.0651125 ]]]\n",
            "Random values with mean=0 & Standard Deviation=5: \n",
            "  [[[ -5.20566852  -3.43299676]\n",
            "  [-12.79723791   4.73155275]]\n",
            "\n",
            " [[  3.95335826   3.40000947]\n",
            "  [  3.5830291    2.38852423]]]\n",
            "Random integer values from 0-10 \n",
            " [[[9 0 0 5]\n",
            "  [9 6 6 5]\n",
            "  [6 4 7 3]\n",
            "  [9 2 3 8]]\n",
            "\n",
            " [[7 1 5 9]\n",
            "  [3 0 6 2]\n",
            "  [3 4 8 9]\n",
            "  [8 5 2 7]]\n",
            "\n",
            " [[5 9 0 9]\n",
            "  [8 6 2 0]\n",
            "  [5 3 2 3]\n",
            "  [6 4 1 3]]\n",
            "\n",
            " [[1 4 8 8]\n",
            "  [2 2 7 2]\n",
            "  [1 2 7 1]\n",
            "  [0 5 3 5]]]\n"
          ]
        }
      ]
    },
    {
      "cell_type": "markdown",
      "source": [
        "Array Analysis"
      ],
      "metadata": {
        "id": "hRe_7g7oYB_M"
      }
    },
    {
      "cell_type": "code",
      "source": [
        "print(\"Number of Dimensions of arr1\",arr1.ndim)\n",
        "print(\"Size of arr1\",arr1.size)\n",
        "print(\"Shape of arr1\",arr1.shape)\n",
        "print(\"Shape of arr1\",arr1.dtype)\n",
        "print(\"Number of Dimensions of arr2\",arr2.ndim)\n",
        "print(\"Size of arr2\",arr2.size)\n",
        "print(\"Shape of arr2\",arr2.shape)\n",
        "print(\"Shape of arr2\",arr2.dtype)\n",
        "print(\"Number of Dimensions of arr3\",arr3.ndim)\n",
        "print(\"Size of arr3\",arr3.size)\n",
        "print(\"Shape of arr3\",arr3.shape)\n",
        "print(\"Shape of arr3\",arr3.dtype)"
      ],
      "metadata": {
        "colab": {
          "base_uri": "https://localhost:8080/"
        },
        "id": "5y5GX_xoYBAn",
        "outputId": "799c88d9-fc96-490a-e284-e2f45eb82ef3"
      },
      "execution_count": 9,
      "outputs": [
        {
          "output_type": "stream",
          "name": "stdout",
          "text": [
            "Number of Dimensions of arr1 1\n",
            "Size of arr1 6\n",
            "Shape of arr1 (6,)\n",
            "Shape of arr1 int64\n",
            "Number of Dimensions of arr2 2\n",
            "Size of arr2 6\n",
            "Shape of arr2 (2, 3)\n",
            "Shape of arr2 int64\n",
            "Number of Dimensions of arr3 3\n",
            "Size of arr3 27\n",
            "Shape of arr3 (3, 3, 3)\n",
            "Shape of arr3 int64\n"
          ]
        }
      ]
    },
    {
      "cell_type": "markdown",
      "source": [
        "Array Indexing & Slicing"
      ],
      "metadata": {
        "id": "AIhcu4tWYLNL"
      }
    },
    {
      "cell_type": "code",
      "source": [
        "print(\"\\n Array Indexing \\n\")\n",
        "print(arr1[1])\n",
        "print(\"\\n\")\n",
        "print(arr2[1,2])\n",
        "print(\"\\n\")\n",
        "print(arr3[1,1,1])\n",
        "print(\"\\n Array Slicing \\n\")\n",
        "print(arr1[0:1])\n",
        "print(\"\\n\")\n",
        "print(arr2[0:1,0:2])\n",
        "print(\"\\n\")\n",
        "print(arr3[0:1,0:2,0:2])"
      ],
      "metadata": {
        "colab": {
          "base_uri": "https://localhost:8080/"
        },
        "id": "A5doRXaOX6Ik",
        "outputId": "d001ce18-5ea7-453a-c90f-318ec043d229"
      },
      "execution_count": 10,
      "outputs": [
        {
          "output_type": "stream",
          "name": "stdout",
          "text": [
            "\n",
            " Array Indexing \n",
            "\n",
            "1\n",
            "\n",
            "\n",
            "6\n",
            "\n",
            "\n",
            "55\n",
            "\n",
            " Array Slicing \n",
            "\n",
            "[0]\n",
            "\n",
            "\n",
            "[[1 2]]\n",
            "\n",
            "\n",
            "[[[41 11]\n",
            "  [23 22]]]\n"
          ]
        }
      ]
    },
    {
      "cell_type": "markdown",
      "source": [
        "Integer Indexing"
      ],
      "metadata": {
        "id": "lmetBAExYXXP"
      }
    },
    {
      "cell_type": "code",
      "source": [
        "print(\"\\n Array Integer Indexing \\n\")\n",
        "print(arr1[3])\n",
        "print(\"\\n\")\n",
        "print(arr2[0,1])\n",
        "print(\"\\n\")\n",
        "print(arr3[0,1,2])"
      ],
      "metadata": {
        "colab": {
          "base_uri": "https://localhost:8080/"
        },
        "id": "J0gND-88YT5O",
        "outputId": "2c079975-9e15-4e4a-e658-8343eb2f5687"
      },
      "execution_count": 18,
      "outputs": [
        {
          "output_type": "stream",
          "name": "stdout",
          "text": [
            "\n",
            " Array Integer Indexing \n",
            "\n",
            "3\n",
            "\n",
            "\n",
            "2\n",
            "\n",
            "\n",
            "32\n"
          ]
        }
      ]
    },
    {
      "cell_type": "markdown",
      "source": [
        "Filtering and Boolean Indexing"
      ],
      "metadata": {
        "id": "mBJPFng5Yk8w"
      }
    },
    {
      "cell_type": "code",
      "source": [
        "filter1= arr1 >3\n",
        "print( filter1, \"\\n\")\n",
        "print(arr1[filter1])\n",
        "filter2= arr2 >3\n",
        "print(filter2, \"\\n\")\n",
        "print(arr2[filter2])\n",
        "filter3= arr3 >30\n",
        "print(filter3, \"\\n\")\n",
        "print(arr3[filter3])"
      ],
      "metadata": {
        "colab": {
          "base_uri": "https://localhost:8080/"
        },
        "id": "qRCuNxbGYaPt",
        "outputId": "5bbc468f-2af7-4a03-b72d-384467096caa"
      },
      "execution_count": 19,
      "outputs": [
        {
          "output_type": "stream",
          "name": "stdout",
          "text": [
            "[False False False False  True  True] \n",
            "\n",
            "[4 5]\n",
            "[[False False False]\n",
            " [ True  True  True]] \n",
            "\n",
            "[4 5 6]\n",
            "[[[ True False False]\n",
            "  [False False  True]\n",
            "  [ True  True  True]]\n",
            "\n",
            " [[False  True  True]\n",
            "  [False  True  True]\n",
            "  [False  True  True]]\n",
            "\n",
            " [[False  True  True]\n",
            "  [False  True  True]\n",
            "  [False  True  True]]] \n",
            "\n",
            "[  41   32   31   33   43   44   54   55   65   66   76   77   87   88\n",
            "   98   99 1300]\n"
          ]
        }
      ]
    },
    {
      "cell_type": "markdown",
      "source": [
        "Broadcasting"
      ],
      "metadata": {
        "id": "aYNadJryYpbF"
      }
    },
    {
      "cell_type": "code",
      "source": [
        "array1 = np.array([1, 2, 3])\n",
        "array2 = np.array([[1], [2], [3]])\n",
        "result = array1 + array2 #broadcasting 1D array onto 2D array\n",
        "num=10\n",
        "print(num+array1) #broadcasting scalar onto 1D array\n",
        "print (result)"
      ],
      "metadata": {
        "colab": {
          "base_uri": "https://localhost:8080/"
        },
        "id": "EK19i5bDYnEX",
        "outputId": "61b43556-3dc1-4a3d-96f8-18c1c183dac1"
      },
      "execution_count": 22,
      "outputs": [
        {
          "output_type": "stream",
          "name": "stdout",
          "text": [
            "[11 12 13]\n",
            "[[2 3 4]\n",
            " [3 4 5]\n",
            " [4 5 6]]\n"
          ]
        }
      ]
    },
    {
      "cell_type": "code",
      "source": [],
      "metadata": {
        "id": "eIf0Awp6YudU"
      },
      "execution_count": null,
      "outputs": []
    }
  ]
}