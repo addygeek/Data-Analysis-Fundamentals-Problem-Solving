{
  "cells": [
    {
      "cell_type": "markdown",
      "metadata": {
        "id": "qOiGSFP8ob59"
      },
      "source": [
        "**String**"
      ]
    },
    {
      "cell_type": "markdown",
      "metadata": {
        "id": "vYdJXAI7ob6F"
      },
      "source": [
        "Input a string"
      ]
    },
    {
      "cell_type": "code",
      "execution_count": 4,
      "metadata": {
        "colab": {
          "base_uri": "https://localhost:8080/"
        },
        "id": "v1erxNTIob6G",
        "outputId": "09661aa1-670e-4a72-fe9c-f7f66ee3db0a"
      },
      "outputs": [
        {
          "name": "stdout",
          "output_type": "stream",
          "text": [
            "Enter the String : ADITYA KUAMR\n"
          ]
        }
      ],
      "source": [
        "s=input(\"Enter the String : \")"
      ]
    },
    {
      "cell_type": "markdown",
      "metadata": {
        "id": "uzHIsRbMob6J"
      },
      "source": [
        "Length of string"
      ]
    },
    {
      "cell_type": "code",
      "execution_count": 41,
      "metadata": {
        "colab": {
          "base_uri": "https://localhost:8080/"
        },
        "id": "RG-ffHmhob6K",
        "outputId": "cebf21f4-81d5-4524-a019-ab71b50c4db4"
      },
      "outputs": [
        {
          "output_type": "stream",
          "name": "stdout",
          "text": [
            "12\n"
          ]
        }
      ],
      "source": [
        "print(len(s))"
      ]
    },
    {
      "cell_type": "markdown",
      "metadata": {
        "id": "u88mS-_Rob6O"
      },
      "source": [
        "String licing"
      ]
    },
    {
      "cell_type": "code",
      "execution_count": 8,
      "metadata": {
        "colab": {
          "base_uri": "https://localhost:8080/"
        },
        "id": "hFeDiZaaob6O",
        "outputId": "bc3b0c9e-8965-4046-8994-c313841cbb8d"
      },
      "outputs": [
        {
          "output_type": "stream",
          "name": "stdout",
          "text": [
            "ADITYA KUAMR\n"
          ]
        }
      ],
      "source": [
        "print(s[0:len(s)])"
      ]
    },
    {
      "cell_type": "markdown",
      "metadata": {
        "id": "aWhVlFbRob6P"
      },
      "source": [
        "Capitalize"
      ]
    },
    {
      "cell_type": "code",
      "execution_count": 9,
      "metadata": {
        "colab": {
          "base_uri": "https://localhost:8080/"
        },
        "id": "Z_xTumQFob6P",
        "outputId": "4754f460-b085-4d4f-fa25-d76c804f54de"
      },
      "outputs": [
        {
          "output_type": "stream",
          "name": "stdout",
          "text": [
            "Aditya kuamr\n"
          ]
        }
      ],
      "source": [
        "print(s.capitalize())"
      ]
    },
    {
      "cell_type": "markdown",
      "source": [
        "UPPER CASE\n"
      ],
      "metadata": {
        "id": "IW13D5v_qhXi"
      }
    },
    {
      "cell_type": "code",
      "source": [
        "print(s.upper())"
      ],
      "metadata": {
        "colab": {
          "base_uri": "https://localhost:8080/"
        },
        "id": "kWQs3M1KqjGF",
        "outputId": "004255e2-087f-4238-e422-48f4fe59e7a2"
      },
      "execution_count": 39,
      "outputs": [
        {
          "output_type": "stream",
          "name": "stdout",
          "text": [
            "ADITYA KUAMR\n"
          ]
        }
      ]
    },
    {
      "cell_type": "markdown",
      "source": [
        "smaller case"
      ],
      "metadata": {
        "id": "U-eHvjyvqoX_"
      }
    },
    {
      "cell_type": "code",
      "source": [
        "print(s.lower())"
      ],
      "metadata": {
        "colab": {
          "base_uri": "https://localhost:8080/"
        },
        "id": "mvXJ9C3aqnre",
        "outputId": "cc2fc9e5-bee9-4e46-d2b9-d1e74a4b81d1"
      },
      "execution_count": 40,
      "outputs": [
        {
          "output_type": "stream",
          "name": "stdout",
          "text": [
            "aditya kuamr\n"
          ]
        }
      ]
    },
    {
      "cell_type": "markdown",
      "metadata": {
        "id": "Ij8nkmUpob6Q"
      },
      "source": [
        "find method"
      ]
    },
    {
      "cell_type": "code",
      "execution_count": 45,
      "metadata": {
        "colab": {
          "base_uri": "https://localhost:8080/"
        },
        "id": "43IR1-p3ob6R",
        "outputId": "db9abd41-ca1f-45db-c104-92ee7e528f05"
      },
      "outputs": [
        {
          "output_type": "stream",
          "name": "stdout",
          "text": [
            "2\n"
          ]
        }
      ],
      "source": [
        "print(s.find(s[2]))"
      ]
    },
    {
      "cell_type": "markdown",
      "metadata": {
        "id": "PRkYF46iob6R"
      },
      "source": [
        "Checking the type of character"
      ]
    },
    {
      "cell_type": "code",
      "execution_count": 10,
      "metadata": {
        "colab": {
          "base_uri": "https://localhost:8080/"
        },
        "id": "xx3d3H-9ob6S",
        "outputId": "db7727ca-164a-459a-f748-bb27a3208259"
      },
      "outputs": [
        {
          "output_type": "stream",
          "name": "stdout",
          "text": [
            "The character is alphanuneric\n"
          ]
        }
      ],
      "source": [
        "if s[2].isalnum:\n",
        "    print(\"The character is alphanuneric\")\n",
        "elif s[2].isalpha:\n",
        "    print(\"The character is alphanbetic\")\n",
        "elif s[2].isdigit:\n",
        "    print(\"The character is numeric\")\n",
        "elif s[2].islower:\n",
        "    print(\"The character is lowercased\")\n",
        "elif s[2].isupper:\n",
        "    print(\"The character is uppercased\")"
      ]
    },
    {
      "cell_type": "markdown",
      "metadata": {
        "id": "zU2e7amPob6T"
      },
      "source": [
        "String stripping"
      ]
    },
    {
      "cell_type": "code",
      "execution_count": 11,
      "metadata": {
        "colab": {
          "base_uri": "https://localhost:8080/"
        },
        "id": "CxiaBRO0ob6T",
        "outputId": "7938f3b6-d0c5-4c7b-8318-c47a3e64cbdc"
      },
      "outputs": [
        {
          "output_type": "stream",
          "name": "stdout",
          "text": [
            "<built-in method lstrip of str object at 0x7b9f441d4c70>\n",
            "<built-in method rstrip of str object at 0x7b9f441d4c70>\n",
            "<built-in method strip of str object at 0x7b9f441d4c70>\n"
          ]
        }
      ],
      "source": [
        "print(s.lstrip)\n",
        "print(s.rstrip)\n",
        "print(s.strip)"
      ]
    },
    {
      "cell_type": "markdown",
      "metadata": {
        "id": "gu9aKlT4ob6U"
      },
      "source": [
        "**List**"
      ]
    },
    {
      "cell_type": "markdown",
      "metadata": {
        "id": "cXCH9fP7ob6V"
      },
      "source": [
        "Range"
      ]
    },
    {
      "cell_type": "code",
      "execution_count": 16,
      "metadata": {
        "colab": {
          "base_uri": "https://localhost:8080/"
        },
        "id": "ENs9Geplob6V",
        "outputId": "78b094d2-d41d-4531-d4f4-53a0b9415e11"
      },
      "outputs": [
        {
          "output_type": "stream",
          "name": "stdout",
          "text": [
            "[0, 1, 2, 3, 4, 5, 6, 7, 8, 9, 10, 11, 12, 13, 14, 15, 16, 17, 18, 19, 20, 21, 22, 23, 24, 25, 26, 27, 28, 29, 30, 31, 32, 33, 34, 35, 36, 37, 38, 39, 40, 41, 42, 43, 44, 45, 46, 47, 48, 49, 50, 51, 52, 53, 54, 55, 56, 57, 58, 59, 60, 61, 62, 63, 64, 65, 66, 67, 68, 69, 70, 71, 72, 73, 74, 75, 76, 77, 78, 79, 80, 81, 82, 83, 84, 85, 86, 87, 88, 89, 90, 91, 92, 93, 94, 95, 96, 97, 98, 99, 100, 101, 102, 103, 104, 105, 106, 107, 108, 109, 110, 111, 112, 113, 114, 115, 116, 117, 118, 119, 120, 121, 122, 123, 124, 125, 126, 127, 128, 129, 130, 131, 132, 133, 134, 135, 136, 137, 138, 139, 140, 141, 142, 143, 144, 145, 146, 147, 148, 149]\n"
          ]
        }
      ],
      "source": [
        "r=list(range(0,150))\n",
        "print(r)"
      ]
    },
    {
      "cell_type": "markdown",
      "metadata": {
        "id": "yFOEebX2ob6W"
      },
      "source": [
        "List length"
      ]
    },
    {
      "cell_type": "code",
      "execution_count": 17,
      "metadata": {
        "colab": {
          "base_uri": "https://localhost:8080/"
        },
        "id": "mN1xGLU3ob6X",
        "outputId": "8f4b757f-67bb-41ee-fc8c-e7c6ec998309"
      },
      "outputs": [
        {
          "output_type": "stream",
          "name": "stdout",
          "text": [
            "150\n"
          ]
        }
      ],
      "source": [
        "print(len(r))"
      ]
    },
    {
      "cell_type": "markdown",
      "metadata": {
        "id": "pOblTaDVob6X"
      },
      "source": [
        "Adding new element"
      ]
    },
    {
      "cell_type": "code",
      "execution_count": 19,
      "metadata": {
        "colab": {
          "base_uri": "https://localhost:8080/"
        },
        "id": "oPKtyxtaob6X",
        "outputId": "b3ea49cd-7214-49ca-f865-d0738d6f0c95"
      },
      "outputs": [
        {
          "output_type": "stream",
          "name": "stdout",
          "text": [
            "[0, 1, 2, 3, 4, 5, 6, 7, 8, 9, 10, 11, 12, 13, 14, 15, 16, 17, 18, 19, 20, 21, 22, 23, 24, 25, 26, 27, 28, 29, 30, 31, 32, 33, 34, 35, 36, 37, 38, 39, 40, 41, 42, 43, 44, 45, 46, 47, 48, 49, 50, 51, 52, 53, 54, 55, 56, 57, 58, 59, 60, 61, 62, 63, 64, 65, 66, 67, 68, 69, 70, 71, 72, 73, 74, 75, 76, 77, 78, 79, 80, 81, 82, 83, 84, 85, 86, 87, 88, 89, 90, 91, 92, 93, 94, 95, 96, 97, 98, 99, 100, 101, 102, 103, 104, 105, 106, 107, 108, 109, 110, 111, 112, 113, 114, 115, 116, 117, 118, 119, 120, 121, 122, 123, 124, 125, 126, 127, 128, 129, 130, 131, 132, 133, 134, 135, 136, 137, 138, 139, 140, 141, 142, 143, 144, 145, 146, 147, 148, 149, 99, 199]\n"
          ]
        }
      ],
      "source": [
        "r.append(199)\n",
        "print(r)"
      ]
    },
    {
      "cell_type": "markdown",
      "metadata": {
        "id": "YZmSYBC3ob6Y"
      },
      "source": [
        "Deletion"
      ]
    },
    {
      "cell_type": "code",
      "execution_count": 13,
      "metadata": {
        "colab": {
          "base_uri": "https://localhost:8080/"
        },
        "id": "VRcaYoypob6Z",
        "outputId": "46384043-c13e-4902-ca91-bbf4c61520c6"
      },
      "outputs": [
        {
          "output_type": "stream",
          "name": "stdout",
          "text": [
            "[0, 2, 3, 4, 5, 6, 7, 8, 9, 10, 11, 12, 13, 14, 15, 16, 17, 18, 19, 21, 22, 23, 24, 25, 26, 27, 28, 29, 30, 31, 32, 33, 34, 35, 36, 37, 38, 39, 40, 41, 42, 43, 44, 45, 46, 47, 48, 49]\n"
          ]
        }
      ],
      "source": [
        "#deletinig a certain index value\n",
        "r.pop(1)\n",
        "#deleteing a certain value\n",
        "r.remove(20)\n",
        "print(r)"
      ]
    },
    {
      "cell_type": "markdown",
      "metadata": {
        "id": "Gz499sN-ob6Z"
      },
      "source": [
        "Sorting the list"
      ]
    },
    {
      "cell_type": "code",
      "execution_count": 20,
      "metadata": {
        "colab": {
          "base_uri": "https://localhost:8080/"
        },
        "id": "_ueDmdCVob6Z",
        "outputId": "463ee832-fbeb-4d30-9586-089d3277ffb0"
      },
      "outputs": [
        {
          "output_type": "stream",
          "name": "stdout",
          "text": [
            "None\n"
          ]
        }
      ],
      "source": [
        "print(r.sort())"
      ]
    },
    {
      "cell_type": "markdown",
      "metadata": {
        "id": "QK0isJBtob6a"
      },
      "source": [
        "List slicing"
      ]
    },
    {
      "cell_type": "code",
      "execution_count": 21,
      "metadata": {
        "colab": {
          "base_uri": "https://localhost:8080/"
        },
        "id": "Z5i_qBaSob6a",
        "outputId": "edd225ae-e38b-4504-cc18-1b604910bfba"
      },
      "outputs": [
        {
          "output_type": "stream",
          "name": "stdout",
          "text": [
            "[10, 11, 12, 13, 14, 15, 16, 17, 18, 19]\n"
          ]
        }
      ],
      "source": [
        "print(r[10:20])"
      ]
    },
    {
      "cell_type": "markdown",
      "metadata": {
        "id": "n6zeh6nHob6b"
      },
      "source": [
        "Changing list elements"
      ]
    },
    {
      "cell_type": "code",
      "execution_count": 22,
      "metadata": {
        "colab": {
          "base_uri": "https://localhost:8080/"
        },
        "id": "2eiZZgNiob6b",
        "outputId": "d04e9161-88c2-448e-c9c6-d998592c5624"
      },
      "outputs": [
        {
          "output_type": "stream",
          "name": "stdout",
          "text": [
            "[0, 1, 2, 3, 4, 5, 6, 7, 8, 77, 10, 11, 12, 13, 14, 15, 16, 17, 18, 19, 20, 21, 22, 23, 24, 25, 26, 27, 28, 29, 30, 31, 32, 33, 34, 35, 36, 37, 38, 39, 40, 41, 42, 43, 44, 45, 46, 47, 48, 49, 50, 51, 52, 53, 54, 55, 56, 57, 58, 59, 60, 61, 62, 63, 64, 65, 66, 67, 68, 69, 70, 71, 72, 73, 74, 75, 76, 77, 78, 79, 80, 81, 82, 83, 84, 85, 86, 87, 88, 89, 90, 91, 92, 93, 94, 95, 96, 97, 98, 99, 99, 100, 101, 102, 103, 104, 105, 106, 107, 108, 109, 110, 111, 112, 113, 114, 115, 116, 117, 118, 119, 120, 121, 122, 123, 124, 125, 126, 127, 128, 129, 130, 131, 132, 133, 134, 135, 136, 137, 138, 139, 140, 141, 142, 143, 144, 145, 146, 147, 148, 149, 199]\n"
          ]
        }
      ],
      "source": [
        "r[9]=77\n",
        "print(r)"
      ]
    },
    {
      "cell_type": "markdown",
      "metadata": {
        "id": "D8jvjOXlob6c"
      },
      "source": [
        "**tuple**"
      ]
    },
    {
      "cell_type": "markdown",
      "metadata": {
        "id": "0hhXbiWOob6d"
      },
      "source": [
        "count method"
      ]
    },
    {
      "cell_type": "code",
      "execution_count": 24,
      "metadata": {
        "colab": {
          "base_uri": "https://localhost:8080/"
        },
        "id": "QQo6ynSrob6d",
        "outputId": "a8a127ff-961e-4c3f-c911-1f3e7837e0f0"
      },
      "outputs": [
        {
          "output_type": "stream",
          "name": "stdout",
          "text": [
            "1\n"
          ]
        }
      ],
      "source": [
        "print(r.count(10))"
      ]
    },
    {
      "cell_type": "code",
      "source": [
        "tuples = (\"Head1\",\"Head2\",\"Head3\")\n",
        "print(tuples)\n",
        "print(type(tuples))"
      ],
      "metadata": {
        "colab": {
          "base_uri": "https://localhost:8080/"
        },
        "id": "ZrrrbBvIpyEb",
        "outputId": "abf6d560-73f5-4512-eb8c-a989d643a484"
      },
      "execution_count": 27,
      "outputs": [
        {
          "output_type": "stream",
          "name": "stdout",
          "text": [
            "('Head1', 'Head2', 'Head3')\n",
            "<class 'tuple'>\n"
          ]
        }
      ]
    },
    {
      "cell_type": "markdown",
      "metadata": {
        "id": "TuE1sDknob6d"
      },
      "source": [
        "Length of tuple"
      ]
    },
    {
      "cell_type": "code",
      "execution_count": 29,
      "metadata": {
        "colab": {
          "base_uri": "https://localhost:8080/"
        },
        "id": "3F_x_dA4ob6e",
        "outputId": "54af851b-3497-4787-e129-e4522e092e7b"
      },
      "outputs": [
        {
          "output_type": "stream",
          "name": "stdout",
          "text": [
            "152\n",
            "3\n"
          ]
        }
      ],
      "source": [
        "print(len(r))\n",
        "print(len(tuples))"
      ]
    },
    {
      "cell_type": "markdown",
      "metadata": {
        "id": "t4bUGOXEob6g"
      },
      "source": [
        "**Dictionary**"
      ]
    },
    {
      "cell_type": "code",
      "execution_count": 30,
      "metadata": {
        "id": "C8teZI46ob6h"
      },
      "outputs": [],
      "source": [
        "d={'A':\"Aeroplane\", 'B':\"Ball\", 'K':\"Kite\"}"
      ]
    },
    {
      "cell_type": "markdown",
      "metadata": {
        "id": "9Kg3E9RMob6i"
      },
      "source": [
        "get method"
      ]
    },
    {
      "cell_type": "code",
      "execution_count": 31,
      "metadata": {
        "colab": {
          "base_uri": "https://localhost:8080/"
        },
        "id": "H5hnaJ7Uob6j",
        "outputId": "d576d822-d08e-48cc-e4f8-ebe7003ca80d"
      },
      "outputs": [
        {
          "output_type": "stream",
          "name": "stdout",
          "text": [
            "None\n"
          ]
        }
      ],
      "source": [
        "print(d.get('banana'))"
      ]
    },
    {
      "cell_type": "markdown",
      "metadata": {
        "id": "JBOv96Uuob6k"
      },
      "source": [
        "Print the items of dictionary"
      ]
    },
    {
      "cell_type": "code",
      "execution_count": 32,
      "metadata": {
        "colab": {
          "base_uri": "https://localhost:8080/"
        },
        "id": "i3u8waedob6l",
        "outputId": "ddcdddb8-b32f-4459-910f-a25b512a0d80"
      },
      "outputs": [
        {
          "output_type": "stream",
          "name": "stdout",
          "text": [
            "dict_items([('A', 'Aeroplane'), ('B', 'Ball'), ('K', 'Kite')])\n"
          ]
        }
      ],
      "source": [
        "print(d.items())"
      ]
    },
    {
      "cell_type": "markdown",
      "metadata": {
        "id": "GePAzx2-ob6l"
      },
      "source": [
        "Print the keys of dictionary"
      ]
    },
    {
      "cell_type": "code",
      "execution_count": 33,
      "metadata": {
        "colab": {
          "base_uri": "https://localhost:8080/"
        },
        "id": "l4vZhtPgob6m",
        "outputId": "7c930323-538f-426f-b30a-f73837785bd2"
      },
      "outputs": [
        {
          "output_type": "stream",
          "name": "stdout",
          "text": [
            "dict_keys(['A', 'B', 'K'])\n"
          ]
        }
      ],
      "source": [
        "print(d.keys())"
      ]
    },
    {
      "cell_type": "markdown",
      "metadata": {
        "id": "7on5u9B5ob6m"
      },
      "source": [
        "Print the values of dictionary"
      ]
    },
    {
      "cell_type": "code",
      "execution_count": 34,
      "metadata": {
        "colab": {
          "base_uri": "https://localhost:8080/"
        },
        "id": "KEPBlWQ_ob6n",
        "outputId": "16741db9-dd85-4df4-9721-879908e50ed6"
      },
      "outputs": [
        {
          "output_type": "stream",
          "name": "stdout",
          "text": [
            "dict_values(['Aeroplane', 'Ball', 'Kite'])\n"
          ]
        }
      ],
      "source": [
        "print(d.values())"
      ]
    },
    {
      "cell_type": "markdown",
      "metadata": {
        "id": "q9CX89vvob6n"
      },
      "source": [
        "Deleting value with a specific key"
      ]
    },
    {
      "cell_type": "code",
      "execution_count": 37,
      "metadata": {
        "colab": {
          "base_uri": "https://localhost:8080/"
        },
        "id": "e6QQ1Havob6o",
        "outputId": "fbf3414a-94c9-478d-df2f-dbac2e96a446"
      },
      "outputs": [
        {
          "output_type": "stream",
          "name": "stdout",
          "text": [
            "Aeroplane\n"
          ]
        }
      ],
      "source": [
        "print(d['A'])"
      ]
    },
    {
      "cell_type": "markdown",
      "metadata": {
        "id": "6gFM7EMhob6p"
      },
      "source": [
        "Adding a key-value pair"
      ]
    },
    {
      "cell_type": "code",
      "execution_count": 38,
      "metadata": {
        "colab": {
          "base_uri": "https://localhost:8080/"
        },
        "id": "_his9CXgob6p",
        "outputId": "92e2a346-bac3-409f-bb54-a2ed4b8afa65"
      },
      "outputs": [
        {
          "output_type": "stream",
          "name": "stdout",
          "text": [
            "{'A': 'Aeroplane', 'B': 'Ball', 'K': 'Kite', 'grapes': 'purple', 'C': 'Cat'}\n"
          ]
        }
      ],
      "source": [
        "d.update({'C':'Cat'})\n",
        "print(d)"
      ]
    }
  ],
  "metadata": {
    "kernelspec": {
      "display_name": "Python 3 (ipykernel)",
      "language": "python",
      "name": "python3"
    },
    "language_info": {
      "codemirror_mode": {
        "name": "ipython",
        "version": 3
      },
      "file_extension": ".py",
      "mimetype": "text/x-python",
      "name": "python",
      "nbconvert_exporter": "python",
      "pygments_lexer": "ipython3",
      "version": "3.11.0"
    },
    "colab": {
      "provenance": []
    }
  },
  "nbformat": 4,
  "nbformat_minor": 0
}