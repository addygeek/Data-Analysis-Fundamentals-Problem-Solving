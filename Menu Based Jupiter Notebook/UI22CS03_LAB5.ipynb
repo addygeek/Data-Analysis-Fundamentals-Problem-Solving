{
  "nbformat": 4,
  "nbformat_minor": 0,
  "metadata": {
    "colab": {
      "provenance": []
    },
    "kernelspec": {
      "name": "python3",
      "display_name": "Python 3"
    },
    "language_info": {
      "name": "python"
    }
  },
  "cells": [
    {
      "cell_type": "markdown",
      "source": [
        "Q1) To determine whether the character entered is in lowercase, uppercase, digit or a special character."
      ],
      "metadata": {
        "id": "T09qKUfFD1ab"
      }
    },
    {
      "cell_type": "code",
      "source": [
        "print(\"Program to Determine the Character cases:\")\n",
        "ch = input(\"Please Enter Your Own Character : \")\n",
        "if(ch.isupper()):\n",
        "    print(\"The Given Character \", ch, \"is an Uppercase Alphabet\")\n",
        "elif(ch.islower()):\n",
        "    print(\"The Given Character \", ch, \"is a Lowercase Alphabet\")\n",
        "else:\n",
        "    print(\"The Given Character \", ch, \"is Not a Lower or Uppercase Alphabet\")"
      ],
      "metadata": {
        "colab": {
          "base_uri": "https://localhost:8080/"
        },
        "id": "MnGQP3bdD456",
        "outputId": "ae0efb98-c7a3-4bd5-cc38-3d987c600cce"
      },
      "execution_count": 30,
      "outputs": [
        {
          "output_type": "stream",
          "name": "stdout",
          "text": [
            "Program to Determine the Character cases:\n",
            "Please Enter Your Own Character : g\n",
            "The Given Character  g is a Lowercase Alphabet\n"
          ]
        }
      ]
    },
    {
      "cell_type": "markdown",
      "source": [
        "Q2) Find the roots of the quadratic equation"
      ],
      "metadata": {
        "id": "b2lwffqdFzc7"
      }
    },
    {
      "cell_type": "code",
      "source": [
        "print(\"Program to Calcualte the Roots of Quadratic equation\")\n",
        "print(\"A Quadratic Equation is in form of ax^2+bx+c \")\n",
        "print('Enter the a, b and constant c below for calucation:-')\n",
        "i=10\n",
        "while i!=0:\n",
        "  a= int(input(\"Enter the coefficient of x^2: \"))\n",
        "  b= int(input(\"Enter the coefficient of x: \"))\n",
        "  c = int(input(\"Enter the Constant c: \"))\n",
        "  D = ((b*b)-(4*a*c))\n",
        "  x1= (-b+D)/(2*a)\n",
        "  x2= (-b-D)/(2*a)\n",
        "  print(\"The below is the Quadartic Equation:\")\n",
        "  print(a,\"x^2+\",b,\"x+\",c)\n",
        "  if D==0:\n",
        "    print(\"The Both Roots are same for above quadratic Equation is:\",-b/(2*a))\n",
        "    break\n",
        "  elif D>0:\n",
        "    print(\"The first quadratic root is: \",x1)\n",
        "    print(\"The second quardatic root is: \",x2)\n",
        "    break\n",
        "  else:\n",
        "    print(\"The above Quadaratic Equation have no real roots!\")\n",
        "    break"
      ],
      "metadata": {
        "colab": {
          "base_uri": "https://localhost:8080/"
        },
        "id": "xP1YSM6mEiRj",
        "outputId": "0851f5f4-5463-4441-e8d3-11e70ed462a5"
      },
      "execution_count": 9,
      "outputs": [
        {
          "output_type": "stream",
          "name": "stdout",
          "text": [
            "Program to Calcualte the Roots of Quadratic equation\n",
            "A Quadratic Equation is in form of ax^2+bx+c \n",
            "Enter the a, b and constant c below for calucation:-\n",
            "Enter the coefficient of x^2: 1\n",
            "Enter the coefficient of x: 3\n",
            "Enter the Constant c: 6\n",
            "The below is the Quadartic Equation:\n",
            "1 x^2+ 3 x+ 6\n",
            "The above Quadaratic Equation have no real roots!\n"
          ]
        }
      ]
    },
    {
      "cell_type": "markdown",
      "source": [
        "Q3) Given three sides, write a program to check whether the triangle can be formed for the following conditions.\n",
        "\n",
        "No triangle if a>= b+c\n",
        "\n",
        "Right Angled triangle if a2=b2+c2\n",
        "\n",
        "Obtuse triangle if a2>b2+c2\n",
        "\n",
        "Acute triangle if a2<b2+c2\n",
        "\n",
        "Equilateral triangle if all sides of the triangle are the same\n",
        "Isosceles triangle if two sides of the triangle are the same\n",
        "Scalene triangle otherwise"
      ],
      "metadata": {
        "id": "jhrSg2nVIM90"
      }
    },
    {
      "cell_type": "code",
      "source": [
        "print(\"Program to idenetify the Triangle\")\n",
        "a = int(input(\"Enter the first side of triangle:\"))\n",
        "b =int(input(\"Enter the second side of triangle\"))\n",
        "c = int(input(\"Enter the third side of triangle\"))\n",
        "a2=a*a\n",
        "b2=b*b\n",
        "c2=c*c\n",
        "if a>=b+c or b>=a+c or c>= a+b:\n",
        "  print(\"No Triangle Possible\")\n",
        "elif a2==b2+c2 or b2== a2+c2 or c2== a2+b2:\n",
        "  print(\"It's a Right angled Triangle\")\n",
        "elif a2>b2+c2 or b2>c2+a2 or c2>a2+b2 :\n",
        "  print(\"It's an Obtuse angled Triangle\")\n",
        "elif a2<b2+c2 or b2<c2+a2 or c2<a2+b2:\n",
        "  print(\"It's an Acute angled Triangle\")\n",
        "elif a==b==c:\n",
        "  print(\"It's an Equilateral Triangle\")\n",
        "elif a==b or b==c or a==c:\n",
        "  print(\"It's an Isosceles Triangle\")\n",
        "else:\n",
        "  print(\"It's Scalene Triangle\")"
      ],
      "metadata": {
        "colab": {
          "base_uri": "https://localhost:8080/"
        },
        "id": "EgR793sfFzGD",
        "outputId": "95c8bee7-a126-4dcb-c27c-53ebedb1b2e1"
      },
      "execution_count": 18,
      "outputs": [
        {
          "output_type": "stream",
          "name": "stdout",
          "text": [
            "Program to idenetify the Triangle\n",
            "Enter the first side of triangle:4\n",
            "Enter the second side of triangle3\n",
            "Enter the third side of triangle5\n",
            "It's a Right angled Triangle\n"
          ]
        }
      ]
    },
    {
      "cell_type": "markdown",
      "source": [
        "Q4) 4. Write a menu-driven program to demonstrate the simple arithmetic calculator (if else)"
      ],
      "metadata": {
        "id": "eoCp7UnzOwz-"
      }
    },
    {
      "cell_type": "code",
      "source": [
        "print(\"Calculator Made by Aditya\")\n",
        "i=10\n",
        "while(i!=0):\n",
        "  print(\"Below are the folliowing operations:\")\n",
        "  print(\"1) Addition\")\n",
        "  print(\"2) Substraction\")\n",
        "  print(\"3) Multiplication\")\n",
        "  print(\"4) Division\")\n",
        "  print(\"5) Exit\")\n",
        "  i = int(input(\"Enter the operation to perform: \"))\n",
        "  a= int(input(\"Enter the first number :  \"))\n",
        "  b = int(input(\"Enter the second number : \"))\n",
        "  if i==1:\n",
        "    print(\"Addition of\",a,\"and\",b,\"is : \",a+b)\n",
        "  if i==2:\n",
        "    print(\"Subtraction of\",a,\"and\",b,\"is : \",a-b)\n",
        "  if i==3:\n",
        "    print(\"Multiplication of\",a,\"and\",b,\"is : \",a*b)\n",
        "  if i==4:\n",
        "    print(\"Division of\",a,\"and\",b,\"is : \",a/b)\n",
        "  if i==5:\n",
        "    break\n",
        "\n",
        "\n"
      ],
      "metadata": {
        "colab": {
          "base_uri": "https://localhost:8080/"
        },
        "id": "bN6viNW_NmC1",
        "outputId": "026e7d81-7033-4c72-e023-45f0582032f0"
      },
      "execution_count": null,
      "outputs": [
        {
          "output_type": "stream",
          "name": "stdout",
          "text": [
            "Calculator Made by Aditya\n",
            "Below are the folliowing operations:\n",
            "1) Addition\n",
            "2) Substraction\n",
            "3) Multiplication\n",
            "4) Division\n",
            "5) Exit\n",
            "Enter the operation to perform: 1\n",
            "Enter the first number :  5\n",
            "Enter the second number : 6\n",
            "Addition of 5 and 6 is :  11\n",
            "Below are the folliowing operations:\n",
            "1) Addition\n",
            "2) Substraction\n",
            "3) Multiplication\n",
            "4) Division\n",
            "5) Exit\n",
            "Enter the operation to perform: 2\n",
            "Enter the first number :  10\n",
            "Enter the second number : 4\n",
            "Subtraction of 10 and 4 is :  6\n",
            "Below are the folliowing operations:\n",
            "1) Addition\n",
            "2) Substraction\n",
            "3) Multiplication\n",
            "4) Division\n",
            "5) Exit\n",
            "Enter the operation to perform: 3\n",
            "Enter the first number :  5\n",
            "Enter the second number : 8\n",
            "Multiplication of 5 and 8 is :  40\n",
            "Below are the folliowing operations:\n",
            "1) Addition\n",
            "2) Substraction\n",
            "3) Multiplication\n",
            "4) Division\n",
            "5) Exit\n",
            "Enter the operation to perform: 4\n",
            "Enter the first number :  22\n",
            "Enter the second number : 11\n",
            "Division of 22 and 11 is :  2.0\n",
            "Below are the folliowing operations:\n",
            "1) Addition\n",
            "2) Substraction\n",
            "3) Multiplication\n",
            "4) Division\n",
            "5) Exit\n"
          ]
        }
      ]
    },
    {
      "cell_type": "markdown",
      "source": [
        "Q5) Program to display the grade obtained by a student based on the marks. The relation between the grades and marks is – (switch)"
      ],
      "metadata": {
        "id": "NjcNgIwqVjc3"
      }
    },
    {
      "cell_type": "code",
      "source": [
        "marks = float(input(\"Enter the marks obtained: \"))\n",
        "grade_mapping = {\n",
        "(0, 39.99): \"Fail\",\n",
        "(40, 49.99): \"E\",\n",
        "(50, 59.99): \"D\",\n",
        "(60, 69.99): \"C\",\n",
        "(70, 79.99): \"B\",\n",
        "(80, 89.99): \"A\",\n",
        "(90, 100): \"A+\"\n",
        "}\n",
        "grade = \"Not Found\"\n",
        "for range_, g in grade_mapping.items():\n",
        "  if range_[0] <= marks <= range_[1]:\n",
        "    grade = g\n",
        "    break\n",
        "# Display the grade\n",
        "print(\"Grade:\", grade)\n"
      ],
      "metadata": {
        "colab": {
          "base_uri": "https://localhost:8080/"
        },
        "id": "FqZ_qQF9UieX",
        "outputId": "1bcdd736-4443-4402-cae8-6d5a98dcfc81"
      },
      "execution_count": 24,
      "outputs": [
        {
          "output_type": "stream",
          "name": "stdout",
          "text": [
            "Enter the marks obtained: 5\n",
            "Grade: Fail\n"
          ]
        }
      ]
    },
    {
      "cell_type": "markdown",
      "source": [
        "Q6) Program to find the date on the next day if today's date is given. For example, 28/02/2013 next date is 01/03/2013. (else if ladder)"
      ],
      "metadata": {
        "id": "faPanQhjYsXZ"
      }
    },
    {
      "cell_type": "code",
      "source": [
        "# Input the date in the format DD/MM/YYYY\n",
        "date_str = input(\"Enter a date (DD/MM/YYYY): \")\n",
        "# Split the input date into day, month, and year\n",
        "day, month, year = map(int, date_str.split('/'))\n",
        "# Function to check if a year is a leap year\n",
        "def is_leap_year(year):\n",
        "  if (year % 4 == 0 and year % 100 != 0) or (year % 400 == 0):\n",
        "    return True\n",
        "  else:\n",
        "    return False\n",
        "# List of maximum days in each month\n",
        "max_days_in_month = [0, 31, 28, 31, 30, 31, 30, 31, 31, 30, 31, 30,\n",
        "31]\n",
        "# Check if it's a leap year and update February's maximum days\n",
        "if is_leap_year(year):\n",
        "  max_days_in_month[2] = 29\n",
        "# Check if the input date is valid\n",
        "if (month >= 1 and month <= 12) and (day >= 1 and day <=max_days_in_month[month]):\n",
        "  day += 1\n",
        "# Check if the day exceeds the maximum for the month\n",
        "  if day > max_days_in_month[month]:\n",
        "    day = 1\n",
        "    month += 1\n",
        "# Check if the month exceeds 12\n",
        "    if month > 12:\n",
        "      month = 1\n",
        "      year += 1\n",
        "\n",
        "  next_date = f\"{day:02d}/{month:02d}/{year:04d}\"\n",
        "  print(\"Next date:\", next_date)\n",
        "else:\n",
        "    print(\"Invalid date entered.\")"
      ],
      "metadata": {
        "colab": {
          "base_uri": "https://localhost:8080/"
        },
        "id": "y9sUogV3Ykjo",
        "outputId": "235975f1-6b5f-49b2-cd37-5743b1dfd4c9"
      },
      "execution_count": 29,
      "outputs": [
        {
          "output_type": "stream",
          "name": "stdout",
          "text": [
            "Enter a date (DD/MM/YYYY): 12/03/2003\n",
            "Next date: 13/03/2003\n"
          ]
        }
      ]
    },
    {
      "cell_type": "code",
      "source": [],
      "metadata": {
        "id": "kWbGUm2HZGXY"
      },
      "execution_count": null,
      "outputs": []
    }
  ]
}