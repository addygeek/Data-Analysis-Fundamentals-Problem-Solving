{
  "nbformat": 4,
  "nbformat_minor": 0,
  "metadata": {
    "colab": {
      "provenance": []
    },
    "kernelspec": {
      "name": "python3",
      "display_name": "Python 3"
    },
    "language_info": {
      "name": "python"
    }
  },
  "cells": [
    {
      "cell_type": "markdown",
      "source": [
        "Write Python programs using\n",
        "1. List Comprehension"
      ],
      "metadata": {
        "id": "ne0rHBOXc3No"
      }
    },
    {
      "cell_type": "code",
      "execution_count": null,
      "metadata": {
        "id": "1D1zUS1Bctek"
      },
      "outputs": [],
      "source": [
        "#List Comprehnesion :-  A Python list comprehension consists of brackets containing the expression, which is executed for each element along with the for loop to iterate over each element in the Python list. \\\n",
        "# List comprehension offers a shorter syntax when you want to create a new list based on the values of an existing list.\n",
        "# Here is the method it writes:> newlist = [expression for item in iterable if condition == True]"
      ]
    },
    {
      "cell_type": "code",
      "source": [
        "#Let's start with basic Syntax of List Comprehension\n",
        "#Here we used List Comprehension to Search the list with given condition\n",
        "cars= [\"Toyota\",\"Tata\",\"Tesla\",\"Mahindra\",\"Suzuki\"]\n",
        "new_cars = [x for x in cars if \"T\" in x]\n",
        "only_Suzuki = [car for car in cars if car!=\"Suzuki\"]\n",
        "all_capital = [car.upper() for car in cars]\n",
        "sort = []\n",
        "#tata_means = [car if car !=\"Tata\" else \"Reliable\" for car in cars]\n",
        "# newlist = [x if x != \"banana\" else \"orange\" for x in fruits]\n",
        "print(new_cars)\n",
        "print(only_Suzuki)\n",
        "print(all_capital)\n",
        "#print(tata_means)"
      ],
      "metadata": {
        "id": "rYkF6Okst6Xv"
      },
      "execution_count": null,
      "outputs": []
    },
    {
      "cell_type": "code",
      "source": [
        "# Iterating through a string Using List Comprehension\n",
        "iterate = [letter for letter in \"ADITYA\"]\n",
        "print(iterate)"
      ],
      "metadata": {
        "colab": {
          "base_uri": "https://localhost:8080/"
        },
        "id": "7rgeRUSdfnlB",
        "outputId": "7aa9c8a7-3e87-4287-dbdc-92c98d077151"
      },
      "execution_count": null,
      "outputs": [
        {
          "output_type": "stream",
          "name": "stdout",
          "text": [
            "['A', 'D', 'I', 'T', 'Y', 'A']\n"
          ]
        }
      ]
    },
    {
      "cell_type": "code",
      "source": [
        "range_newlist = [x for x in range(10)]\n",
        "print(range_newlist)"
      ],
      "metadata": {
        "colab": {
          "base_uri": "https://localhost:8080/"
        },
        "id": "kMTANUmwrVyv",
        "outputId": "2c385f5d-7646-4656-d716-c3f11cdc0fd4"
      },
      "execution_count": null,
      "outputs": [
        {
          "output_type": "stream",
          "name": "stdout",
          "text": [
            "[0, 1, 2, 3, 4, 5, 6, 7, 8, 9]\n"
          ]
        }
      ]
    },
    {
      "cell_type": "code",
      "source": [
        "#Conditionals in List Comprehension\n",
        "even_no = [num for num in range(100) if num%2==0]\n",
        "print(even_no)\n",
        "num_list = [y for y in range(100) if y%2==0 if y%5==0]\n",
        "print(num_list)\n",
        "obj = [\"Even\" if i%2==0 else \"Odd\" for i in num_list]\n",
        "print(obj)"
      ],
      "metadata": {
        "colab": {
          "base_uri": "https://localhost:8080/"
        },
        "id": "EuS3lEe0gfOQ",
        "outputId": "2d28fe3b-b772-48b8-efef-5e0d24612459"
      },
      "execution_count": null,
      "outputs": [
        {
          "output_type": "stream",
          "name": "stdout",
          "text": [
            "[0, 2, 4, 6, 8, 10, 12, 14, 16, 18, 20, 22, 24, 26, 28, 30, 32, 34, 36, 38, 40, 42, 44, 46, 48, 50, 52, 54, 56, 58, 60, 62, 64, 66, 68, 70, 72, 74, 76, 78, 80, 82, 84, 86, 88, 90, 92, 94, 96, 98]\n",
            "[0, 10, 20, 30, 40, 50, 60, 70, 80, 90]\n",
            "['Even', 'Even', 'Even', 'Even', 'Even', 'Even', 'Even', 'Even', 'Even', 'Even']\n"
          ]
        }
      ]
    },
    {
      "cell_type": "code",
      "source": [
        "#Transpose of matrix in list comprehension\n",
        "matrix_create = [[j for j in range(5)] for i in range(3)]\n",
        "\n",
        "print(matrix_create)\n",
        "matrix = [[1, 2], [3,4], [5,6], [7,8]]\n",
        "transpose = [[row[i] for row in matrix] for i in range(2)]\n",
        "print(matrix_create)\n",
        "print(matrix)\n",
        "print (transpose)"
      ],
      "metadata": {
        "colab": {
          "base_uri": "https://localhost:8080/"
        },
        "id": "SaCPz8MQkRw_",
        "outputId": "b976542d-5064-4ad4-cbd3-dc494f9da747"
      },
      "execution_count": null,
      "outputs": [
        {
          "output_type": "stream",
          "name": "stdout",
          "text": [
            "[[1, 2], [3, 4], [5, 6], [7, 8]]\n",
            "[[1, 3, 5, 7], [2, 4, 6, 8]]\n"
          ]
        }
      ]
    },
    {
      "cell_type": "markdown",
      "source": [
        "2.  Lambda Operator : an anonymous function means that a function is without a name. As we already know that def keyword is used to define the normal functions and the lambda keyword is used to create anonymous functions.\n",
        "\n",
        "---\n",
        "\n",
        "\n",
        "lambda arguments : expression\n"
      ],
      "metadata": {
        "id": "gvmQF_E-vi0u"
      }
    },
    {
      "cell_type": "code",
      "source": [
        "x = lambda a: a + 10\n",
        "print(x(5))"
      ],
      "metadata": {
        "id": "7OH5BSs0y6m2",
        "outputId": "bbf98ac0-5201-436b-d7b0-a7478daa2102",
        "colab": {
          "base_uri": "https://localhost:8080/"
        }
      },
      "execution_count": null,
      "outputs": [
        {
          "output_type": "stream",
          "name": "stdout",
          "text": [
            "15\n"
          ]
        }
      ]
    },
    {
      "cell_type": "code",
      "source": [
        "calc = lambda num: \"Even number\" if num % 2 == 0 else \"Odd number\"\n",
        "print(calc(21))"
      ],
      "metadata": {
        "id": "DSY-HFCKo8L-",
        "colab": {
          "base_uri": "https://localhost:8080/"
        },
        "outputId": "98f1a3b1-39e8-47f2-ee94-278d4c164ff4"
      },
      "execution_count": null,
      "outputs": [
        {
          "output_type": "stream",
          "name": "stdout",
          "text": [
            "Odd number\n"
          ]
        }
      ]
    },
    {
      "cell_type": "code",
      "source": [
        "# using lambda to print table of 10\n",
        "numbers = list(map(lambda i: i*10, [i for i in range(1, 6)]))\n",
        "print(numbers)\n"
      ],
      "metadata": {
        "id": "KSGkRApRvhFW"
      },
      "execution_count": null,
      "outputs": []
    },
    {
      "cell_type": "code",
      "source": [
        "#One-line function to square a number using lambda operator:\n",
        "x=lambda a: a**5\n",
        "print(x(10))"
      ],
      "metadata": {
        "colab": {
          "base_uri": "https://localhost:8080/"
        },
        "id": "bIDWpVE_f4l2",
        "outputId": "5feeeb05-81a3-45a8-8098-0cf6c8dcc386"
      },
      "execution_count": 1,
      "outputs": [
        {
          "output_type": "stream",
          "name": "stdout",
          "text": [
            "100000\n"
          ]
        }
      ]
    },
    {
      "cell_type": "code",
      "source": [
        "m=lambda a,b: a+b\n",
        "print(m([1,2,3],[7,8,9]))"
      ],
      "metadata": {
        "colab": {
          "base_uri": "https://localhost:8080/"
        },
        "id": "Foyx-A-6f_Ji",
        "outputId": "fab84c2e-4ae5-4505-f98b-435ef0cf1b4a"
      },
      "execution_count": 2,
      "outputs": [
        {
          "output_type": "stream",
          "name": "stdout",
          "text": [
            "[1, 2, 3, 7, 8, 9]\n"
          ]
        }
      ]
    },
    {
      "cell_type": "markdown",
      "source": [
        "Map : map() function returns a map object(which is an iterator) of the results after applying the given\n",
        "function to each item of a given iterable (list, tuple etc.)"
      ],
      "metadata": {
        "id": "jb3FUnw1gJfI"
      }
    },
    {
      "cell_type": "code",
      "source": [
        "#Doubling each element in a list using lamda and map:\n",
        "a=[1,2,4.4,7.2213,312]\n",
        "b=map(lambda i:i*2,a)\n",
        "print(b)\n",
        "print(list(b))"
      ],
      "metadata": {
        "colab": {
          "base_uri": "https://localhost:8080/"
        },
        "id": "_NZVE_7igHVx",
        "outputId": "77014a14-1b16-46cf-b85b-15f4c8413132"
      },
      "execution_count": 4,
      "outputs": [
        {
          "output_type": "stream",
          "name": "stdout",
          "text": [
            "<map object at 0x7b8461918760>\n",
            "[2, 4, 8.8, 14.4426, 624]\n"
          ]
        }
      ]
    },
    {
      "cell_type": "code",
      "source": [
        "#Making a list containing the size of all items of a list:\n",
        "a=['PPFS','Letcountit','DSA','DBMS']\n",
        "b=map(lambda i:len(i),a)\n",
        "print(list(b))"
      ],
      "metadata": {
        "colab": {
          "base_uri": "https://localhost:8080/"
        },
        "id": "UF0cjg-GgU92",
        "outputId": "87ad3212-5785-40f3-bab1-055a8e4859d8"
      },
      "execution_count": 7,
      "outputs": [
        {
          "output_type": "stream",
          "name": "stdout",
          "text": [
            "[4, 10, 3, 4]\n"
          ]
        }
      ]
    },
    {
      "cell_type": "markdown",
      "source": [
        "Reduce\n",
        "The reduce(fun,seq) function is used to apply a particular function passed in its argument to all\n",
        "of the list elements mentioned in the sequence passed along.This function is defined in “functools”\n",
        "module."
      ],
      "metadata": {
        "id": "gw8K0_dkg680"
      }
    },
    {
      "cell_type": "code",
      "source": [
        "#Summing all the elements of a list using reduce:\n",
        "from functools import reduce\n",
        "e=[1,2,4,6,2]\n",
        "sum=reduce(lambda a,b : a+b,e)\n",
        "print(sum)"
      ],
      "metadata": {
        "colab": {
          "base_uri": "https://localhost:8080/"
        },
        "id": "KAMaNAmjg6rl",
        "outputId": "e4f92612-e138-4b1f-ec1e-80c67ee63cb1"
      },
      "execution_count": 9,
      "outputs": [
        {
          "output_type": "stream",
          "name": "stdout",
          "text": [
            "15\n"
          ]
        }
      ]
    },
    {
      "cell_type": "code",
      "source": [
        "#Concatenating all strings in a list\n",
        "d=[\"Indian \",\"Institute \", \"of \",\"Information \",\"Technology\",\", Surat\",\" Gujarat\"]\n",
        "college_name=reduce(lambda a,b : a+b,d)\n",
        "print(college_name)"
      ],
      "metadata": {
        "colab": {
          "base_uri": "https://localhost:8080/"
        },
        "id": "prNJE5nKgu62",
        "outputId": "b2816397-dcf7-4b1e-87a1-38eb3a7fa7c5"
      },
      "execution_count": 12,
      "outputs": [
        {
          "output_type": "stream",
          "name": "stdout",
          "text": [
            "Indian Institute of Information Technology, Surat Gujarat\n"
          ]
        }
      ]
    },
    {
      "cell_type": "markdown",
      "source": [
        "Filter\n",
        "The filter() method filters the given sequence with the help of a function that tests each element\n",
        "in the sequence to be true or not.\n"
      ],
      "metadata": {
        "id": "Klz8xYnVhdfu"
      }
    },
    {
      "cell_type": "code",
      "source": [
        "#Returning a list of numbers more than 18 from a given list:\n",
        "ages=[34,5,32,5,88,32,65,23,6,87,15]\n",
        "ad=filter(lambda a:a>18,ages)\n",
        "print(ad)\n",
        "print(list(ad))"
      ],
      "metadata": {
        "id": "yNT-Ld9RhONQ"
      },
      "execution_count": null,
      "outputs": []
    },
    {
      "cell_type": "code",
      "source": [
        "#Returning a list of even numbers more than 45 from a given\n",
        "num=[1,5,7,13,73,68,238,124,32,1156,23,719]\n",
        "at=(filter(lambda a: a%2==0 and a>45,num))\n",
        "print(list(at))"
      ],
      "metadata": {
        "colab": {
          "base_uri": "https://localhost:8080/"
        },
        "id": "Vfek40z5i4uE",
        "outputId": "e9a59a1c-c292-4453-b19f-8d29ffa95335"
      },
      "execution_count": 13,
      "outputs": [
        {
          "output_type": "stream",
          "name": "stdout",
          "text": [
            "[68, 238, 124, 1156]\n"
          ]
        }
      ]
    },
    {
      "cell_type": "markdown",
      "source": [
        "Eneumerate\n",
        "The enumerate() function takes a collection (e.g. a tuple) and returns it as an enumerate object.\n",
        "The enumerate() function adds a counter as the key of the enumerate object.\n"
      ],
      "metadata": {
        "id": "aAfxKyfFjDk_"
      }
    },
    {
      "cell_type": "code",
      "source": [
        "#Converting a tuple into an enumerate object:\n",
        "x=(\"A\",\"D\",\"I\",\"T\",\"Y\",\"A\")\n",
        "y=enumerate(x)\n",
        "print(y)\n",
        "print(list(y))"
      ],
      "metadata": {
        "colab": {
          "base_uri": "https://localhost:8080/"
        },
        "id": "1hXsjY7YjAkH",
        "outputId": "7eabdd73-6af2-4c63-8d3f-49cecf2acd65"
      },
      "execution_count": 15,
      "outputs": [
        {
          "output_type": "stream",
          "name": "stdout",
          "text": [
            "<enumerate object at 0x7b84492fa300>\n",
            "[(0, 'A'), (1, 'D'), (2, 'I'), (3, 'T'), (4, 'Y'), (5, 'A')]\n"
          ]
        }
      ]
    },
    {
      "cell_type": "code",
      "source": [
        "#The zip() function takes iterables (can be zero or more), aggregates them in a tuple, and returns it.\n",
        "# Making a dictionary with car names as key and colors as value:\n",
        "cars=[\"Mecedez\",\"Volkswagon\",\"BMW\"]\n",
        "colors=[\"red\",\"blue\",\"black\"]\n",
        "d=dict(zip(cars,colors))\n",
        "print(d)"
      ],
      "metadata": {
        "colab": {
          "base_uri": "https://localhost:8080/"
        },
        "id": "wB0Mb-hcjLc5",
        "outputId": "7ea0727d-b9e0-4296-9af3-7d03caeac4c8"
      },
      "execution_count": 16,
      "outputs": [
        {
          "output_type": "stream",
          "name": "stdout",
          "text": [
            "{'Mecedez': 'red', 'Volkswagon': 'blue', 'BMW': 'black'}\n"
          ]
        }
      ]
    },
    {
      "cell_type": "code",
      "source": [
        "#Making a dictionary with a vbalue as index and a tuple as value:\n",
        " cars=[\"Mecedez\",\"Volkswagon\",\"BMW\"]\n",
        "colors=[(\"red\",\"blue\"),(\"black\",\"yellow\"),(\"green\",\"grey\")]\n",
        "d=dict(zip(cars,colors))\n",
        "print(d)"
      ],
      "metadata": {
        "id": "tMp8mKhvjXpZ"
      },
      "execution_count": null,
      "outputs": []
    }
  ]
}